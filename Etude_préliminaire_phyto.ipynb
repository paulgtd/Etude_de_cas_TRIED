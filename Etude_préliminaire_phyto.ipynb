{
 "cells": [
  {
   "cell_type": "code",
   "execution_count": 11,
   "metadata": {},
   "outputs": [],
   "source": [
    "#!pip install dataframe-image"
   ]
  },
  {
   "cell_type": "code",
   "execution_count": 12,
   "metadata": {
    "id": "jV8wEohWoFNe"
   },
   "outputs": [],
   "source": [
    "%matplotlib inline\n",
    "\n",
    "#-----------------------------------------------------------\n",
    "import os\n",
    "import math\n",
    "import numpy as np\n",
    "import scipy.io\n",
    "import matplotlib.pyplot as plt\n",
    "from matplotlib import cm        # module palettes de couleurs\n",
    "import pandas as pd\n",
    "import dataframe_image as dfi\n",
    "import seaborn as sns\n",
    "from sklearn.decomposition import PCA\n",
    "#-----------------------------------------------------------\n",
    "#np.set_printoptions(edgeitems=10)\n",
    "np.set_printoptions(linewidth = 220)\n",
    "np.set_printoptions(precision=4)\n",
    "#np.set_printoptions(precision=3,formatter={'float': '{:9.3f}'.format})\n",
    "pd.set_option('precision', 5)\n",
    "pd.set_option(\"display.max_columns\",20)\n",
    "pd.set_option('display.max_rows', 999)\n",
    "#pd.set_option('max_colwidth', 6)\n"
   ]
  },
  {
   "cell_type": "markdown",
   "metadata": {
    "id": "ozAa6SXRDl-C"
   },
   "source": [
    "## Chargement des données"
   ]
  },
  {
   "cell_type": "markdown",
   "metadata": {
    "id": "-RhRNfJELzDi"
   },
   "source": [
    "Regardons d'abord les 2 bases de données que l'on a à disposition :\n",
    "\n",
    "\n",
    "*   *'global_data'* : base de données composée de 9000 relevés pour lesquels la concentration en 10 types de pigments a été mesurée\n",
    "*   *'tara_data'* : base de données de 211 relevés pour lesquels les mêmes concentrations sont mesurées, auxquelles s'ajoutent le pourcentage de 7 groupe de phytoplanctons dans l'échantillon.\n",
    "\n",
    "\n",
    "\n",
    "\n"
   ]
  },
  {
   "cell_type": "code",
   "execution_count": 13,
   "metadata": {
    "colab": {
     "base_uri": "https://localhost:8080/",
     "height": 435
    },
    "id": "Uzn9ZEmLDxDc",
    "outputId": "dc8dd615-7b60-4b94-b496-a468eed17215"
   },
   "outputs": [],
   "source": [
    "# 9000 lignes x 10 pigments\n",
    "# global_data = pd.read_excel('Data_Etude_de_Cas.xlsx',sheet_name='Global HPLC Data')\n",
    "df_global_data = pd.read_excel('Data_Etude_de_Cas.xlsx',sheet_name='Global HPLC Data',usecols = 'F:O') #global data sans les colonnes dates\n",
    "\n",
    "# 210 lignes x (10 pigments + 7 % de phytoplanctons)\n",
    "df_tara_data = pd.read_excel('Data_Etude_de_Cas.xlsx',sheet_name='Tara Data Phyto + HPLC',usecols = 'G:W')\n"
   ]
  },
  {
   "cell_type": "code",
   "execution_count": 14,
   "metadata": {
    "id": "HGCTlnzTDy-t"
   },
   "outputs": [
    {
     "data": {
      "text/html": [
       "<div>\n",
       "<style scoped>\n",
       "    .dataframe tbody tr th:only-of-type {\n",
       "        vertical-align: middle;\n",
       "    }\n",
       "\n",
       "    .dataframe tbody tr th {\n",
       "        vertical-align: top;\n",
       "    }\n",
       "\n",
       "    .dataframe thead th {\n",
       "        text-align: right;\n",
       "    }\n",
       "</style>\n",
       "<table border=\"1\" class=\"dataframe\">\n",
       "  <thead>\n",
       "    <tr style=\"text-align: right;\">\n",
       "      <th></th>\n",
       "      <th>Chlorophyll a, total</th>\n",
       "      <th>Divinyl chlorophyll a</th>\n",
       "      <th>Chlorophyll b</th>\n",
       "      <th>Divinyl chlorophyll b</th>\n",
       "      <th>19-Hexanoyloxyfucoxanthin</th>\n",
       "      <th>19-Butanoyloxyfucoxanthin</th>\n",
       "      <th>Fucoxanthin</th>\n",
       "      <th>Peridinin</th>\n",
       "      <th>Alloxanthin</th>\n",
       "      <th>Zeaxanthin</th>\n",
       "    </tr>\n",
       "  </thead>\n",
       "  <tbody>\n",
       "    <tr>\n",
       "      <th>0</th>\n",
       "      <td>0.482</td>\n",
       "      <td>0.055</td>\n",
       "      <td>0.059</td>\n",
       "      <td>NaN</td>\n",
       "      <td>0.085</td>\n",
       "      <td>0.016</td>\n",
       "      <td>0.029</td>\n",
       "      <td>0.017</td>\n",
       "      <td>0.007</td>\n",
       "      <td>0.188</td>\n",
       "    </tr>\n",
       "    <tr>\n",
       "      <th>1</th>\n",
       "      <td>1.248</td>\n",
       "      <td>0.000</td>\n",
       "      <td>0.277</td>\n",
       "      <td>NaN</td>\n",
       "      <td>0.248</td>\n",
       "      <td>0.061</td>\n",
       "      <td>0.332</td>\n",
       "      <td>0.064</td>\n",
       "      <td>0.106</td>\n",
       "      <td>0.039</td>\n",
       "    </tr>\n",
       "    <tr>\n",
       "      <th>2</th>\n",
       "      <td>1.517</td>\n",
       "      <td>0.000</td>\n",
       "      <td>0.206</td>\n",
       "      <td>NaN</td>\n",
       "      <td>0.234</td>\n",
       "      <td>0.065</td>\n",
       "      <td>0.636</td>\n",
       "      <td>0.056</td>\n",
       "      <td>0.207</td>\n",
       "      <td>0.030</td>\n",
       "    </tr>\n",
       "    <tr>\n",
       "      <th>3</th>\n",
       "      <td>3.363</td>\n",
       "      <td>0.000</td>\n",
       "      <td>0.000</td>\n",
       "      <td>NaN</td>\n",
       "      <td>0.137</td>\n",
       "      <td>0.035</td>\n",
       "      <td>2.057</td>\n",
       "      <td>0.085</td>\n",
       "      <td>0.000</td>\n",
       "      <td>0.048</td>\n",
       "    </tr>\n",
       "    <tr>\n",
       "      <th>4</th>\n",
       "      <td>1.325</td>\n",
       "      <td>0.000</td>\n",
       "      <td>0.192</td>\n",
       "      <td>NaN</td>\n",
       "      <td>0.288</td>\n",
       "      <td>0.053</td>\n",
       "      <td>0.336</td>\n",
       "      <td>0.152</td>\n",
       "      <td>0.032</td>\n",
       "      <td>0.174</td>\n",
       "    </tr>\n",
       "  </tbody>\n",
       "</table>\n",
       "</div>"
      ],
      "text/plain": [
       "   Chlorophyll a, total  Divinyl chlorophyll a  Chlorophyll b  \\\n",
       "0                 0.482                  0.055          0.059   \n",
       "1                 1.248                  0.000          0.277   \n",
       "2                 1.517                  0.000          0.206   \n",
       "3                 3.363                  0.000          0.000   \n",
       "4                 1.325                  0.000          0.192   \n",
       "\n",
       "   Divinyl chlorophyll b  19-Hexanoyloxyfucoxanthin  \\\n",
       "0                    NaN                      0.085   \n",
       "1                    NaN                      0.248   \n",
       "2                    NaN                      0.234   \n",
       "3                    NaN                      0.137   \n",
       "4                    NaN                      0.288   \n",
       "\n",
       "   19-Butanoyloxyfucoxanthin  Fucoxanthin  Peridinin  Alloxanthin  Zeaxanthin  \n",
       "0                      0.016        0.029      0.017        0.007       0.188  \n",
       "1                      0.061        0.332      0.064        0.106       0.039  \n",
       "2                      0.065        0.636      0.056        0.207       0.030  \n",
       "3                      0.035        2.057      0.085        0.000       0.048  \n",
       "4                      0.053        0.336      0.152        0.032       0.174  "
      ]
     },
     "execution_count": 14,
     "metadata": {},
     "output_type": "execute_result"
    }
   ],
   "source": [
    "df_global_data.head()"
   ]
  },
  {
   "cell_type": "code",
   "execution_count": 15,
   "metadata": {
    "id": "oTnWOElcD1V8"
   },
   "outputs": [
    {
     "data": {
      "text/html": [
       "<div>\n",
       "<style scoped>\n",
       "    .dataframe tbody tr th:only-of-type {\n",
       "        vertical-align: middle;\n",
       "    }\n",
       "\n",
       "    .dataframe tbody tr th {\n",
       "        vertical-align: top;\n",
       "    }\n",
       "\n",
       "    .dataframe thead th {\n",
       "        text-align: right;\n",
       "    }\n",
       "</style>\n",
       "<table border=\"1\" class=\"dataframe\">\n",
       "  <thead>\n",
       "    <tr style=\"text-align: right;\">\n",
       "      <th></th>\n",
       "      <th>Diatoms</th>\n",
       "      <th>Coccolithophores (Haptophytes)</th>\n",
       "      <th>Dinoflagellates</th>\n",
       "      <th>Prochlorococcus</th>\n",
       "      <th>Synechococcus</th>\n",
       "      <th>chlorophytes</th>\n",
       "      <th>other_Haptophytes</th>\n",
       "      <th>Chlorophyll a, total</th>\n",
       "      <th>Divinyl chlorophyll a</th>\n",
       "      <th>Chlorophyll b</th>\n",
       "      <th>Divinyl chlorophyll b</th>\n",
       "      <th>19-Hexanoyloxyfucoxanthin</th>\n",
       "      <th>19-Butanoyloxyfucoxanthin</th>\n",
       "      <th>Fucoxanthin</th>\n",
       "      <th>Peridinin</th>\n",
       "      <th>Alloxanthin</th>\n",
       "      <th>Zeaxanthin</th>\n",
       "    </tr>\n",
       "  </thead>\n",
       "  <tbody>\n",
       "    <tr>\n",
       "      <th>0</th>\n",
       "      <td>NaN</td>\n",
       "      <td>NaN</td>\n",
       "      <td>NaN</td>\n",
       "      <td>NaN</td>\n",
       "      <td>NaN</td>\n",
       "      <td>NaN</td>\n",
       "      <td>NaN</td>\n",
       "      <td>NaN</td>\n",
       "      <td>NaN</td>\n",
       "      <td>NaN</td>\n",
       "      <td>NaN</td>\n",
       "      <td>NaN</td>\n",
       "      <td>NaN</td>\n",
       "      <td>NaN</td>\n",
       "      <td>NaN</td>\n",
       "      <td>NaN</td>\n",
       "      <td>NaN</td>\n",
       "    </tr>\n",
       "    <tr>\n",
       "      <th>1</th>\n",
       "      <td>NaN</td>\n",
       "      <td>NaN</td>\n",
       "      <td>NaN</td>\n",
       "      <td>NaN</td>\n",
       "      <td>NaN</td>\n",
       "      <td>NaN</td>\n",
       "      <td>NaN</td>\n",
       "      <td>NaN</td>\n",
       "      <td>NaN</td>\n",
       "      <td>NaN</td>\n",
       "      <td>NaN</td>\n",
       "      <td>NaN</td>\n",
       "      <td>NaN</td>\n",
       "      <td>NaN</td>\n",
       "      <td>NaN</td>\n",
       "      <td>NaN</td>\n",
       "      <td>NaN</td>\n",
       "    </tr>\n",
       "    <tr>\n",
       "      <th>2</th>\n",
       "      <td>NaN</td>\n",
       "      <td>NaN</td>\n",
       "      <td>NaN</td>\n",
       "      <td>NaN</td>\n",
       "      <td>NaN</td>\n",
       "      <td>NaN</td>\n",
       "      <td>NaN</td>\n",
       "      <td>NaN</td>\n",
       "      <td>NaN</td>\n",
       "      <td>NaN</td>\n",
       "      <td>NaN</td>\n",
       "      <td>NaN</td>\n",
       "      <td>NaN</td>\n",
       "      <td>NaN</td>\n",
       "      <td>NaN</td>\n",
       "      <td>NaN</td>\n",
       "      <td>NaN</td>\n",
       "    </tr>\n",
       "    <tr>\n",
       "      <th>3</th>\n",
       "      <td>0.00378</td>\n",
       "      <td>0.01410</td>\n",
       "      <td>0.02332</td>\n",
       "      <td>0.68080</td>\n",
       "      <td>0.15722</td>\n",
       "      <td>0.03385</td>\n",
       "      <td>0.03577</td>\n",
       "      <td>NaN</td>\n",
       "      <td>NaN</td>\n",
       "      <td>NaN</td>\n",
       "      <td>NaN</td>\n",
       "      <td>NaN</td>\n",
       "      <td>NaN</td>\n",
       "      <td>NaN</td>\n",
       "      <td>NaN</td>\n",
       "      <td>NaN</td>\n",
       "      <td>NaN</td>\n",
       "    </tr>\n",
       "    <tr>\n",
       "      <th>4</th>\n",
       "      <td>0.01393</td>\n",
       "      <td>0.01678</td>\n",
       "      <td>0.03135</td>\n",
       "      <td>0.19303</td>\n",
       "      <td>0.43812</td>\n",
       "      <td>0.04704</td>\n",
       "      <td>0.12771</td>\n",
       "      <td>0.42017</td>\n",
       "      <td>0.00126</td>\n",
       "      <td>0.03323</td>\n",
       "      <td>0.0</td>\n",
       "      <td>0.02532</td>\n",
       "      <td>0.00388</td>\n",
       "      <td>0.12139</td>\n",
       "      <td>0.0</td>\n",
       "      <td>0.00154</td>\n",
       "      <td>0.00696</td>\n",
       "    </tr>\n",
       "  </tbody>\n",
       "</table>\n",
       "</div>"
      ],
      "text/plain": [
       "   Diatoms  Coccolithophores (Haptophytes)  Dinoflagellates  Prochlorococcus  \\\n",
       "0      NaN                             NaN              NaN              NaN   \n",
       "1      NaN                             NaN              NaN              NaN   \n",
       "2      NaN                             NaN              NaN              NaN   \n",
       "3  0.00378                         0.01410          0.02332          0.68080   \n",
       "4  0.01393                         0.01678          0.03135          0.19303   \n",
       "\n",
       "   Synechococcus  chlorophytes  other_Haptophytes  Chlorophyll a, total  \\\n",
       "0            NaN           NaN                NaN                   NaN   \n",
       "1            NaN           NaN                NaN                   NaN   \n",
       "2            NaN           NaN                NaN                   NaN   \n",
       "3        0.15722       0.03385            0.03577                   NaN   \n",
       "4        0.43812       0.04704            0.12771               0.42017   \n",
       "\n",
       "   Divinyl chlorophyll a  Chlorophyll b  Divinyl chlorophyll b  \\\n",
       "0                    NaN            NaN                    NaN   \n",
       "1                    NaN            NaN                    NaN   \n",
       "2                    NaN            NaN                    NaN   \n",
       "3                    NaN            NaN                    NaN   \n",
       "4                0.00126        0.03323                    0.0   \n",
       "\n",
       "   19-Hexanoyloxyfucoxanthin  19-Butanoyloxyfucoxanthin  Fucoxanthin  \\\n",
       "0                        NaN                        NaN          NaN   \n",
       "1                        NaN                        NaN          NaN   \n",
       "2                        NaN                        NaN          NaN   \n",
       "3                        NaN                        NaN          NaN   \n",
       "4                    0.02532                    0.00388      0.12139   \n",
       "\n",
       "   Peridinin  Alloxanthin  Zeaxanthin  \n",
       "0        NaN          NaN         NaN  \n",
       "1        NaN          NaN         NaN  \n",
       "2        NaN          NaN         NaN  \n",
       "3        NaN          NaN         NaN  \n",
       "4        0.0      0.00154     0.00696  "
      ]
     },
     "execution_count": 15,
     "metadata": {},
     "output_type": "execute_result"
    }
   ],
   "source": [
    "df_tara_data.head()"
   ]
  },
  {
   "cell_type": "markdown",
   "metadata": {
    "id": "AQdfzn9TD6A3"
   },
   "source": [
    "# 1. **Etude unidimensionnelle**"
   ]
  },
  {
   "cell_type": "markdown",
   "metadata": {},
   "source": [
    "## 1.1. Grande base de données *global_data*"
   ]
  },
  {
   "cell_type": "markdown",
   "metadata": {
    "id": "DvMS9bexpNPo"
   },
   "source": [
    "### Caractéristiques unidimensionnelles"
   ]
  },
  {
   "cell_type": "code",
   "execution_count": 16,
   "metadata": {
    "id": "rjt3ZAmgD-HX",
    "scrolled": true
   },
   "outputs": [
    {
     "data": {
      "text/html": [
       "<div>\n",
       "<style scoped>\n",
       "    .dataframe tbody tr th:only-of-type {\n",
       "        vertical-align: middle;\n",
       "    }\n",
       "\n",
       "    .dataframe tbody tr th {\n",
       "        vertical-align: top;\n",
       "    }\n",
       "\n",
       "    .dataframe thead th {\n",
       "        text-align: right;\n",
       "    }\n",
       "</style>\n",
       "<table border=\"1\" class=\"dataframe\">\n",
       "  <thead>\n",
       "    <tr style=\"text-align: right;\">\n",
       "      <th></th>\n",
       "      <th>Chlorophyll a, total</th>\n",
       "      <th>Divinyl chlorophyll a</th>\n",
       "      <th>Chlorophyll b</th>\n",
       "      <th>Divinyl chlorophyll b</th>\n",
       "      <th>19-Hexanoyloxyfucoxanthin</th>\n",
       "      <th>19-Butanoyloxyfucoxanthin</th>\n",
       "      <th>Fucoxanthin</th>\n",
       "      <th>Peridinin</th>\n",
       "      <th>Alloxanthin</th>\n",
       "      <th>Zeaxanthin</th>\n",
       "    </tr>\n",
       "  </thead>\n",
       "  <tbody>\n",
       "    <tr>\n",
       "      <th>count</th>\n",
       "      <td>9484.00000</td>\n",
       "      <td>3945.00000</td>\n",
       "      <td>8242.00000</td>\n",
       "      <td>2312.00000</td>\n",
       "      <td>9442.00000</td>\n",
       "      <td>9295.00000</td>\n",
       "      <td>9269.00000</td>\n",
       "      <td>8500.00000</td>\n",
       "      <td>8088.00000</td>\n",
       "      <td>8520.00000</td>\n",
       "    </tr>\n",
       "    <tr>\n",
       "      <th>mean</th>\n",
       "      <td>1.54416</td>\n",
       "      <td>0.03178</td>\n",
       "      <td>0.05721</td>\n",
       "      <td>0.00295</td>\n",
       "      <td>0.18065</td>\n",
       "      <td>0.04242</td>\n",
       "      <td>0.85459</td>\n",
       "      <td>0.07378</td>\n",
       "      <td>0.06015</td>\n",
       "      <td>0.05247</td>\n",
       "    </tr>\n",
       "    <tr>\n",
       "      <th>std</th>\n",
       "      <td>3.68796</td>\n",
       "      <td>0.08862</td>\n",
       "      <td>0.20121</td>\n",
       "      <td>0.01748</td>\n",
       "      <td>0.69556</td>\n",
       "      <td>0.11607</td>\n",
       "      <td>2.98596</td>\n",
       "      <td>0.58111</td>\n",
       "      <td>0.20495</td>\n",
       "      <td>0.14162</td>\n",
       "    </tr>\n",
       "    <tr>\n",
       "      <th>min</th>\n",
       "      <td>0.00000</td>\n",
       "      <td>0.00000</td>\n",
       "      <td>0.00000</td>\n",
       "      <td>0.00000</td>\n",
       "      <td>-0.00320</td>\n",
       "      <td>0.00000</td>\n",
       "      <td>-0.00310</td>\n",
       "      <td>0.00000</td>\n",
       "      <td>-0.00290</td>\n",
       "      <td>0.00000</td>\n",
       "    </tr>\n",
       "    <tr>\n",
       "      <th>25%</th>\n",
       "      <td>0.15300</td>\n",
       "      <td>0.00000</td>\n",
       "      <td>0.00400</td>\n",
       "      <td>0.00000</td>\n",
       "      <td>0.02477</td>\n",
       "      <td>0.00600</td>\n",
       "      <td>0.01500</td>\n",
       "      <td>0.00000</td>\n",
       "      <td>0.00000</td>\n",
       "      <td>0.00035</td>\n",
       "    </tr>\n",
       "    <tr>\n",
       "      <th>50%</th>\n",
       "      <td>0.39189</td>\n",
       "      <td>0.01242</td>\n",
       "      <td>0.01741</td>\n",
       "      <td>0.00000</td>\n",
       "      <td>0.06300</td>\n",
       "      <td>0.01839</td>\n",
       "      <td>0.07946</td>\n",
       "      <td>0.00423</td>\n",
       "      <td>0.00441</td>\n",
       "      <td>0.01853</td>\n",
       "    </tr>\n",
       "    <tr>\n",
       "      <th>75%</th>\n",
       "      <td>1.17046</td>\n",
       "      <td>0.04160</td>\n",
       "      <td>0.05470</td>\n",
       "      <td>0.00010</td>\n",
       "      <td>0.13900</td>\n",
       "      <td>0.04500</td>\n",
       "      <td>0.37200</td>\n",
       "      <td>0.02000</td>\n",
       "      <td>0.03590</td>\n",
       "      <td>0.05900</td>\n",
       "    </tr>\n",
       "    <tr>\n",
       "      <th>max</th>\n",
       "      <td>92.41320</td>\n",
       "      <td>3.05633</td>\n",
       "      <td>9.12550</td>\n",
       "      <td>0.34100</td>\n",
       "      <td>13.34613</td>\n",
       "      <td>4.61160</td>\n",
       "      <td>100.77410</td>\n",
       "      <td>25.64400</td>\n",
       "      <td>5.45264</td>\n",
       "      <td>2.39130</td>\n",
       "    </tr>\n",
       "  </tbody>\n",
       "</table>\n",
       "</div>"
      ],
      "text/plain": [
       "       Chlorophyll a, total  Divinyl chlorophyll a  Chlorophyll b  \\\n",
       "count            9484.00000             3945.00000     8242.00000   \n",
       "mean                1.54416                0.03178        0.05721   \n",
       "std                 3.68796                0.08862        0.20121   \n",
       "min                 0.00000                0.00000        0.00000   \n",
       "25%                 0.15300                0.00000        0.00400   \n",
       "50%                 0.39189                0.01242        0.01741   \n",
       "75%                 1.17046                0.04160        0.05470   \n",
       "max                92.41320                3.05633        9.12550   \n",
       "\n",
       "       Divinyl chlorophyll b  19-Hexanoyloxyfucoxanthin  \\\n",
       "count             2312.00000                 9442.00000   \n",
       "mean                 0.00295                    0.18065   \n",
       "std                  0.01748                    0.69556   \n",
       "min                  0.00000                   -0.00320   \n",
       "25%                  0.00000                    0.02477   \n",
       "50%                  0.00000                    0.06300   \n",
       "75%                  0.00010                    0.13900   \n",
       "max                  0.34100                   13.34613   \n",
       "\n",
       "       19-Butanoyloxyfucoxanthin  Fucoxanthin   Peridinin  Alloxanthin  \\\n",
       "count                 9295.00000   9269.00000  8500.00000   8088.00000   \n",
       "mean                     0.04242      0.85459     0.07378      0.06015   \n",
       "std                      0.11607      2.98596     0.58111      0.20495   \n",
       "min                      0.00000     -0.00310     0.00000     -0.00290   \n",
       "25%                      0.00600      0.01500     0.00000      0.00000   \n",
       "50%                      0.01839      0.07946     0.00423      0.00441   \n",
       "75%                      0.04500      0.37200     0.02000      0.03590   \n",
       "max                      4.61160    100.77410    25.64400      5.45264   \n",
       "\n",
       "       Zeaxanthin  \n",
       "count  8520.00000  \n",
       "mean      0.05247  \n",
       "std       0.14162  \n",
       "min       0.00000  \n",
       "25%       0.00035  \n",
       "50%       0.01853  \n",
       "75%       0.05900  \n",
       "max       2.39130  "
      ]
     },
     "execution_count": 16,
     "metadata": {},
     "output_type": "execute_result"
    }
   ],
   "source": [
    "df_global_data.describe()"
   ]
  },
  {
   "cell_type": "markdown",
   "metadata": {
    "id": "JiYjNylNEE_1"
   },
   "source": [
    "### Box-plot"
   ]
  },
  {
   "cell_type": "code",
   "execution_count": 17,
   "metadata": {},
   "outputs": [
    {
     "data": {
      "text/plain": [
       "Index(['Chlorophyll a, total', 'Divinyl chlorophyll a', 'Chlorophyll b',\n",
       "       'Divinyl chlorophyll b', '19-Hexanoyloxyfucoxanthin',\n",
       "       '19-Butanoyloxyfucoxanthin', 'Fucoxanthin', 'Peridinin', 'Alloxanthin',\n",
       "       'Zeaxanthin'],\n",
       "      dtype='object')"
      ]
     },
     "execution_count": 17,
     "metadata": {},
     "output_type": "execute_result"
    }
   ],
   "source": [
    "pigments = df_global_data.columns\n",
    "pigments"
   ]
  },
  {
   "cell_type": "code",
   "execution_count": 18,
   "metadata": {},
   "outputs": [],
   "source": [
    "#df_global_data.iloc[].head()"
   ]
  },
  {
   "cell_type": "code",
   "execution_count": 19,
   "metadata": {
    "id": "_DaEktLEEEcM",
    "scrolled": false
   },
   "outputs": [
    {
     "data": {
      "image/png": "[encoded data removed]",
      "text/plain": [
       "<Figure size 1440x1080 with 10 Axes>"
      ]
     },
     "metadata": {
      "needs_background": "light"
     },
     "output_type": "display_data"
    }
   ],
   "source": [
    "nb_variables = 10\n",
    "figure = plt.figure(figsize=(20, 15))\n",
    "nbPlt = nb_variables*(nb_variables-1)/2\n",
    "nb_c = 2\n",
    "# nb_l = int(np.ceil(nbPlt/nb_c))\n",
    "nb_l = 5\n",
    "cpt=0\n",
    "for i in range(nb_variables):\n",
    "        cpt+=1\n",
    "        ax=plt.subplot(nb_l,nb_c,cpt)\n",
    "        sns.boxplot(data=df_global_data.iloc[:,i])\n",
    "        #plt.xlabel(f'Concentration',fontsize=16)\n",
    "        plt.ylabel('Concentration',fontsize=16)\n",
    "        plt.title(f\"Box Plot - {pigments[i]}\")\n",
    "        plt.tight_layout()\n",
    "        #plt.xscale('log')\n",
    " "
   ]
  },
  {
   "cell_type": "markdown",
   "metadata": {
    "id": "pkQb-2UCEJUF"
   },
   "source": [
    "### Histogrammes des variables"
   ]
  },
  {
   "cell_type": "markdown",
   "metadata": {},
   "source": [
    "On s'intéresse d'abord à la répartition des concentrations de chaque pigment pour la grosse base de données *'global_data'*."
   ]
  },
  {
   "cell_type": "code",
   "execution_count": 20,
   "metadata": {
    "id": "ONUtZ6l9GvXt"
   },
   "outputs": [
    {
     "data": {
      "image/png": "[encoded data removed]",
      "text/plain": [
       "<Figure size 1440x1080 with 10 Axes>"
      ]
     },
     "metadata": {
      "needs_background": "light"
     },
     "output_type": "display_data"
    }
   ],
   "source": [
    "\n",
    "nb_variables = 10\n",
    "figure = plt.figure(figsize=(20, 15))\n",
    "nbPlt = nb_variables*(nb_variables-1)/2\n",
    "nb_c = 2\n",
    "# nb_l = int(np.ceil(nbPlt/nb_c))\n",
    "nb_l = 5\n",
    "cpt=0\n",
    "for i in range(nb_variables):\n",
    "        cpt+=1\n",
    "        ax=plt.subplot(nb_l,nb_c,cpt)\n",
    "        ax.hist(df_global_data[pigments[i]].values, density=True, bins=50)\n",
    "        plt.xlabel(f'Concentration',fontsize=16)\n",
    "        #plt.ylabel(f'{}',fontsize=16)\n",
    "        plt.title(f\"Histogramme - {pigments[i]}\")\n",
    "        plt.tight_layout()\n",
    "        #plt.xscale('log')"
   ]
  },
  {
   "cell_type": "markdown",
   "metadata": {},
   "source": [
    "## 1.2. Base de données *tara_data*"
   ]
  },
  {
   "cell_type": "code",
   "execution_count": 21,
   "metadata": {},
   "outputs": [],
   "source": [
    "columns_taradata = df_tara_data.columns"
   ]
  },
  {
   "cell_type": "markdown",
   "metadata": {
    "id": "JjUJB66lNoz6"
   },
   "source": [
    "# 2. Analyse des valeurs manquantes"
   ]
  },
  {
   "cell_type": "markdown",
   "metadata": {
    "id": "AKdkD8viNyez"
   },
   "source": [
    "Dans cette partie, on va s'intéresser aux données manquantes des tableaux. Celles-ci apparaissent sous la forme *'NaN'*."
   ]
  },
  {
   "cell_type": "markdown",
   "metadata": {},
   "source": [
    "## 2.1. Base de données *global_data*"
   ]
  },
  {
   "cell_type": "markdown",
   "metadata": {},
   "source": [
    "### Décompte sur les variables"
   ]
  },
  {
   "cell_type": "code",
   "execution_count": 22,
   "metadata": {
    "id": "qmTa85pvN9zq",
    "scrolled": true
   },
   "outputs": [
    {
     "data": {
      "image/png": "[encoded data removed]",
      "text/plain": [
       "<Figure size 432x288 with 1 Axes>"
      ]
     },
     "metadata": {
      "needs_background": "light"
     },
     "output_type": "display_data"
    }
   ],
   "source": [
    "df_global_data.isna().sum().plot.barh()\n",
    "plt.title('Columns of $global\\_data$ with missing values')\n",
    "plt.show()"
   ]
  },
  {
   "cell_type": "markdown",
   "metadata": {},
   "source": [
    "On remarque aussi que certaines variables ont une proportion de valeurs NaN considérables. Calculons ce pourcentage."
   ]
  },
  {
   "cell_type": "code",
   "execution_count": 23,
   "metadata": {
    "scrolled": false
   },
   "outputs": [
    {
     "data": {
      "text/html": [
       "<div>\n",
       "<style scoped>\n",
       "    .dataframe tbody tr th:only-of-type {\n",
       "        vertical-align: middle;\n",
       "    }\n",
       "\n",
       "    .dataframe tbody tr th {\n",
       "        vertical-align: top;\n",
       "    }\n",
       "\n",
       "    .dataframe thead th {\n",
       "        text-align: right;\n",
       "    }\n",
       "</style>\n",
       "<table border=\"1\" class=\"dataframe\">\n",
       "  <thead>\n",
       "    <tr style=\"text-align: right;\">\n",
       "      <th></th>\n",
       "      <th>Chlorophyll a, total</th>\n",
       "      <th>Divinyl chlorophyll a</th>\n",
       "      <th>Chlorophyll b</th>\n",
       "      <th>Divinyl chlorophyll b</th>\n",
       "      <th>19-Hexanoyloxyfucoxanthin</th>\n",
       "      <th>19-Butanoyloxyfucoxanthin</th>\n",
       "      <th>Fucoxanthin</th>\n",
       "      <th>Peridinin</th>\n",
       "      <th>Alloxanthin</th>\n",
       "      <th>Zeaxanthin</th>\n",
       "    </tr>\n",
       "  </thead>\n",
       "  <tbody>\n",
       "    <tr>\n",
       "      <th>% de NaN</th>\n",
       "      <td>0.0</td>\n",
       "      <td>58.4</td>\n",
       "      <td>13.1</td>\n",
       "      <td>75.62</td>\n",
       "      <td>0.44</td>\n",
       "      <td>1.99</td>\n",
       "      <td>2.27</td>\n",
       "      <td>10.38</td>\n",
       "      <td>14.72</td>\n",
       "      <td>10.16</td>\n",
       "    </tr>\n",
       "  </tbody>\n",
       "</table>\n",
       "</div>"
      ],
      "text/plain": [
       "          Chlorophyll a, total  Divinyl chlorophyll a  Chlorophyll b  \\\n",
       "% de NaN                   0.0                   58.4           13.1   \n",
       "\n",
       "          Divinyl chlorophyll b  19-Hexanoyloxyfucoxanthin  \\\n",
       "% de NaN                  75.62                       0.44   \n",
       "\n",
       "          19-Butanoyloxyfucoxanthin  Fucoxanthin  Peridinin  Alloxanthin  \\\n",
       "% de NaN                       1.99         2.27      10.38        14.72   \n",
       "\n",
       "          Zeaxanthin  \n",
       "% de NaN       10.16  "
      ]
     },
     "metadata": {},
     "output_type": "display_data"
    }
   ],
   "source": [
    "pctg_nan_global = np.reshape(np.array(df_global_data.isna().sum()/np.shape(df_global_data)[0]*100),(1,10))\n",
    "df_pctgNaN_global = pd.DataFrame(np.around(pctg_nan_global,2),columns = pigments, index = ['% de NaN'])\n",
    "display(df_pctgNaN_global)"
   ]
  },
  {
   "cell_type": "code",
   "execution_count": 25,
   "metadata": {},
   "outputs": [],
   "source": [
    "dfi.export(df_pctgNaN_global, 'Tableau pctge NaN global.png')"
   ]
  },
  {
   "cell_type": "code",
   "execution_count": null,
   "metadata": {},
   "outputs": [],
   "source": []
  },
  {
   "cell_type": "markdown",
   "metadata": {},
   "source": [
    "### Valeurs négatives"
   ]
  },
  {
   "cell_type": "code",
   "execution_count": 26,
   "metadata": {
    "scrolled": true
   },
   "outputs": [
    {
     "data": {
      "image/png": "[encoded data removed]",
      "text/plain": [
       "<Figure size 432x288 with 1 Axes>"
      ]
     },
     "metadata": {
      "needs_background": "light"
     },
     "output_type": "display_data"
    }
   ],
   "source": [
    "(df_global_data == 0).sum(axis=0).plot.barh()\n",
    "plt.title('Columns of $global\\_data$ with 0 values')\n",
    "plt.show()"
   ]
  },
  {
   "cell_type": "code",
   "execution_count": 27,
   "metadata": {},
   "outputs": [
    {
     "data": {
      "text/plain": [
       "Chlorophyll a, total         0\n",
       "Divinyl chlorophyll a        0\n",
       "Chlorophyll b                0\n",
       "Divinyl chlorophyll b        0\n",
       "19-Hexanoyloxyfucoxanthin    1\n",
       "19-Butanoyloxyfucoxanthin    0\n",
       "Fucoxanthin                  2\n",
       "Peridinin                    0\n",
       "Alloxanthin                  3\n",
       "Zeaxanthin                   0\n",
       "dtype: int64"
      ]
     },
     "execution_count": 27,
     "metadata": {},
     "output_type": "execute_result"
    }
   ],
   "source": [
    "((df_global_data < 0)).sum(axis=0)"
   ]
  },
  {
   "cell_type": "markdown",
   "metadata": {},
   "source": [
    "Le résultat ci-dessus nous montre que certaines valeurs de concentrations sont négatives. Ceci est bien évidemment impossible et résulte d'une erreur de mesure ou de retranscription."
   ]
  },
  {
   "cell_type": "markdown",
   "metadata": {},
   "source": [
    "On peut soit dire que c'est une erreur de frappe et prendre la valeur absolue, soit refaire une imputation en ciblant les valeurs négatives, soit attribuer 0 aux valeurs négatives."
   ]
  },
  {
   "cell_type": "markdown",
   "metadata": {},
   "source": [
    "N'ayant pas d'informations précises à ce sujet, on choisira la dernière option."
   ]
  },
  {
   "cell_type": "code",
   "execution_count": 28,
   "metadata": {},
   "outputs": [],
   "source": [
    "df_global_data[df_global_data < 0] = 0"
   ]
  },
  {
   "cell_type": "markdown",
   "metadata": {
    "scrolled": false
   },
   "source": [
    "### NaN par individu"
   ]
  },
  {
   "cell_type": "markdown",
   "metadata": {},
   "source": [
    "On aimerait savoir si certains individus possèdent plus de la moitié de leurs valeurs nulles; auquel cas, on pourrait les considérer comme peu significatifs et donc décider de ne pas les considérer pour ne pas fausser l'interprétation."
   ]
  },
  {
   "cell_type": "code",
   "execution_count": 29,
   "metadata": {},
   "outputs": [],
   "source": [
    "seuil_individu = 0.75"
   ]
  },
  {
   "cell_type": "code",
   "execution_count": 30,
   "metadata": {},
   "outputs": [],
   "source": [
    "nbNaN_indiv_global = df_global_data.isna().sum(axis=1)"
   ]
  },
  {
   "cell_type": "code",
   "execution_count": 31,
   "metadata": {},
   "outputs": [],
   "source": [
    "index_indiv_global_seuilNaN = np.where(nbNaN_indiv_global/np.shape(df_global_data)[1] > seuil_individu)"
   ]
  },
  {
   "cell_type": "code",
   "execution_count": 32,
   "metadata": {},
   "outputs": [
    {
     "name": "stdout",
     "output_type": "stream",
     "text": [
      "On a donc 41 individu qui présente 75.0% ou plus de valeurs manquantes.\n"
     ]
    }
   ],
   "source": [
    "nb_indiv_global_seuilNaN = np.shape(index_indiv_global_seuilNaN)[1]\n",
    "print(f'On a donc {nb_indiv_global_seuilNaN} individu qui présente {seuil_individu*100}% ou plus de valeurs manquantes.')"
   ]
  },
  {
   "cell_type": "markdown",
   "metadata": {},
   "source": [
    "## 2.2. Base de données *tara_data*"
   ]
  },
  {
   "cell_type": "markdown",
   "metadata": {},
   "source": [
    "### Décompte sur les variables"
   ]
  },
  {
   "cell_type": "code",
   "execution_count": 33,
   "metadata": {},
   "outputs": [
    {
     "data": {
      "image/png": "[encoded data removed]",
      "text/plain": [
       "<Figure size 432x288 with 1 Axes>"
      ]
     },
     "metadata": {
      "needs_background": "light"
     },
     "output_type": "display_data"
    }
   ],
   "source": [
    "is_column_with_NaN = df_tara_data.isna().sum()\n",
    "is_column_with_NaN[is_column_with_NaN != 0].plot.barh()\n",
    "plt.title('Columns of $tara\\_data$ with missing values')\n",
    "plt.show()"
   ]
  },
  {
   "cell_type": "code",
   "execution_count": 34,
   "metadata": {
    "scrolled": false
   },
   "outputs": [
    {
     "data": {
      "text/html": [
       "<div>\n",
       "<style scoped>\n",
       "    .dataframe tbody tr th:only-of-type {\n",
       "        vertical-align: middle;\n",
       "    }\n",
       "\n",
       "    .dataframe tbody tr th {\n",
       "        vertical-align: top;\n",
       "    }\n",
       "\n",
       "    .dataframe thead th {\n",
       "        text-align: right;\n",
       "    }\n",
       "</style>\n",
       "<table border=\"1\" class=\"dataframe\">\n",
       "  <thead>\n",
       "    <tr style=\"text-align: right;\">\n",
       "      <th></th>\n",
       "      <th>Diatoms</th>\n",
       "      <th>Coccolithophores (Haptophytes)</th>\n",
       "      <th>Dinoflagellates</th>\n",
       "      <th>Prochlorococcus</th>\n",
       "      <th>Synechococcus</th>\n",
       "      <th>chlorophytes</th>\n",
       "      <th>other_Haptophytes</th>\n",
       "      <th>Chlorophyll a, total</th>\n",
       "      <th>Divinyl chlorophyll a</th>\n",
       "      <th>Chlorophyll b</th>\n",
       "      <th>Divinyl chlorophyll b</th>\n",
       "      <th>19-Hexanoyloxyfucoxanthin</th>\n",
       "      <th>19-Butanoyloxyfucoxanthin</th>\n",
       "      <th>Fucoxanthin</th>\n",
       "      <th>Peridinin</th>\n",
       "      <th>Alloxanthin</th>\n",
       "      <th>Zeaxanthin</th>\n",
       "    </tr>\n",
       "  </thead>\n",
       "  <tbody>\n",
       "    <tr>\n",
       "      <th>% de NaN</th>\n",
       "      <td>31.28</td>\n",
       "      <td>31.28</td>\n",
       "      <td>31.28</td>\n",
       "      <td>31.28</td>\n",
       "      <td>31.28</td>\n",
       "      <td>31.28</td>\n",
       "      <td>31.28</td>\n",
       "      <td>31.75</td>\n",
       "      <td>31.75</td>\n",
       "      <td>31.75</td>\n",
       "      <td>31.75</td>\n",
       "      <td>31.75</td>\n",
       "      <td>31.75</td>\n",
       "      <td>31.75</td>\n",
       "      <td>31.75</td>\n",
       "      <td>31.75</td>\n",
       "      <td>31.75</td>\n",
       "    </tr>\n",
       "  </tbody>\n",
       "</table>\n",
       "</div>"
      ],
      "text/plain": [
       "          Diatoms  Coccolithophores (Haptophytes)  Dinoflagellates  \\\n",
       "% de NaN    31.28                           31.28            31.28   \n",
       "\n",
       "          Prochlorococcus  Synechococcus  chlorophytes  other_Haptophytes  \\\n",
       "% de NaN            31.28          31.28         31.28              31.28   \n",
       "\n",
       "          Chlorophyll a, total  Divinyl chlorophyll a  Chlorophyll b  \\\n",
       "% de NaN                 31.75                  31.75          31.75   \n",
       "\n",
       "          Divinyl chlorophyll b  19-Hexanoyloxyfucoxanthin  \\\n",
       "% de NaN                  31.75                      31.75   \n",
       "\n",
       "          19-Butanoyloxyfucoxanthin  Fucoxanthin  Peridinin  Alloxanthin  \\\n",
       "% de NaN                      31.75        31.75      31.75        31.75   \n",
       "\n",
       "          Zeaxanthin  \n",
       "% de NaN       31.75  "
      ]
     },
     "metadata": {},
     "output_type": "display_data"
    }
   ],
   "source": [
    "pctg_nan_tara = np.reshape(np.array(df_tara_data.isna().sum()/np.shape(df_tara_data)[0]*100),(1,17))\n",
    "df_pctgNaN_tara = pd.DataFrame(np.around(pctg_nan_tara,2),columns = columns_taradata, index = ['% de NaN'])\n",
    "display(df_pctgNaN_tara)"
   ]
  },
  {
   "cell_type": "code",
   "execution_count": 35,
   "metadata": {},
   "outputs": [],
   "source": [
    "dfi.export(df_pctgNaN_tara, 'Tableau pctge NaN tara.png')"
   ]
  },
  {
   "cell_type": "markdown",
   "metadata": {},
   "source": [
    "### NaN par individus"
   ]
  },
  {
   "cell_type": "code",
   "execution_count": 36,
   "metadata": {},
   "outputs": [],
   "source": [
    "nbNaN_indiv_tara = df_tara_data.isna().sum(axis=1)\n",
    "index_indiv_tara_seuilNaN = np.where(nbNaN_indiv_tara/np.shape(df_tara_data)[1] > seuil_individu)"
   ]
  },
  {
   "cell_type": "code",
   "execution_count": 37,
   "metadata": {},
   "outputs": [
    {
     "name": "stdout",
     "output_type": "stream",
     "text": [
      "On a donc 28 individu qui présente 75.0% ou plus de valeurs manquantes.\n"
     ]
    }
   ],
   "source": [
    "nb_indiv_tara_seuilNaN = np.shape(index_indiv_tara_seuilNaN)[1]\n",
    "print(f'On a donc {nb_indiv_tara_seuilNaN} individu qui présente {seuil_individu*100}% ou plus de valeurs manquantes.')"
   ]
  },
  {
   "cell_type": "markdown",
   "metadata": {},
   "source": [
    "### Valeurs négatives"
   ]
  },
  {
   "cell_type": "markdown",
   "metadata": {},
   "source": [
    "Pas de valeurs négatives dans la base de données tara."
   ]
  },
  {
   "cell_type": "markdown",
   "metadata": {
    "id": "8DBOjULDENVX"
   },
   "source": [
    "# 3. **Etude bi-dimensionnelle**"
   ]
  },
  {
   "cell_type": "markdown",
   "metadata": {},
   "source": [
    "## 3.1. Données brutes"
   ]
  },
  {
   "cell_type": "markdown",
   "metadata": {
    "id": "hB9q5VZUEQWi"
   },
   "source": [
    "### a) Corrélations des variables de *global_data*"
   ]
  },
  {
   "cell_type": "code",
   "execution_count": 38,
   "metadata": {},
   "outputs": [
    {
     "data": {
      "text/html": [
       "<div>\n",
       "<style scoped>\n",
       "    .dataframe tbody tr th:only-of-type {\n",
       "        vertical-align: middle;\n",
       "    }\n",
       "\n",
       "    .dataframe tbody tr th {\n",
       "        vertical-align: top;\n",
       "    }\n",
       "\n",
       "    .dataframe thead th {\n",
       "        text-align: right;\n",
       "    }\n",
       "</style>\n",
       "<table border=\"1\" class=\"dataframe\">\n",
       "  <thead>\n",
       "    <tr style=\"text-align: right;\">\n",
       "      <th></th>\n",
       "      <th>Chlorophyll a, total</th>\n",
       "      <th>Divinyl chlorophyll a</th>\n",
       "      <th>Chlorophyll b</th>\n",
       "      <th>Divinyl chlorophyll b</th>\n",
       "      <th>19-Hexanoyloxyfucoxanthin</th>\n",
       "      <th>19-Butanoyloxyfucoxanthin</th>\n",
       "      <th>Fucoxanthin</th>\n",
       "      <th>Peridinin</th>\n",
       "      <th>Alloxanthin</th>\n",
       "      <th>Zeaxanthin</th>\n",
       "    </tr>\n",
       "  </thead>\n",
       "  <tbody>\n",
       "    <tr>\n",
       "      <th>Chlorophyll a, total</th>\n",
       "      <td>1.00000</td>\n",
       "      <td>-0.06194</td>\n",
       "      <td>0.36365</td>\n",
       "      <td>-0.01328</td>\n",
       "      <td>0.09536</td>\n",
       "      <td>0.12494</td>\n",
       "      <td>0.63218</td>\n",
       "      <td>0.46702</td>\n",
       "      <td>0.31446</td>\n",
       "      <td>0.12861</td>\n",
       "    </tr>\n",
       "    <tr>\n",
       "      <th>Divinyl chlorophyll a</th>\n",
       "      <td>-0.06194</td>\n",
       "      <td>1.00000</td>\n",
       "      <td>-0.06417</td>\n",
       "      <td>0.20846</td>\n",
       "      <td>-0.03670</td>\n",
       "      <td>-0.02062</td>\n",
       "      <td>-0.08937</td>\n",
       "      <td>-0.04830</td>\n",
       "      <td>-0.10159</td>\n",
       "      <td>0.27040</td>\n",
       "    </tr>\n",
       "    <tr>\n",
       "      <th>Chlorophyll b</th>\n",
       "      <td>0.36365</td>\n",
       "      <td>-0.06417</td>\n",
       "      <td>1.00000</td>\n",
       "      <td>-0.02682</td>\n",
       "      <td>0.03800</td>\n",
       "      <td>0.03127</td>\n",
       "      <td>0.13016</td>\n",
       "      <td>0.30308</td>\n",
       "      <td>0.14270</td>\n",
       "      <td>0.20323</td>\n",
       "    </tr>\n",
       "    <tr>\n",
       "      <th>Divinyl chlorophyll b</th>\n",
       "      <td>-0.01328</td>\n",
       "      <td>0.20846</td>\n",
       "      <td>-0.02682</td>\n",
       "      <td>1.00000</td>\n",
       "      <td>0.11675</td>\n",
       "      <td>0.22185</td>\n",
       "      <td>0.00611</td>\n",
       "      <td>-0.01508</td>\n",
       "      <td>-0.00377</td>\n",
       "      <td>0.01133</td>\n",
       "    </tr>\n",
       "    <tr>\n",
       "      <th>19-Hexanoyloxyfucoxanthin</th>\n",
       "      <td>0.09536</td>\n",
       "      <td>-0.03670</td>\n",
       "      <td>0.03800</td>\n",
       "      <td>0.11675</td>\n",
       "      <td>1.00000</td>\n",
       "      <td>0.06753</td>\n",
       "      <td>0.04268</td>\n",
       "      <td>-0.00762</td>\n",
       "      <td>0.13072</td>\n",
       "      <td>-0.02032</td>\n",
       "    </tr>\n",
       "    <tr>\n",
       "      <th>19-Butanoyloxyfucoxanthin</th>\n",
       "      <td>0.12494</td>\n",
       "      <td>-0.02062</td>\n",
       "      <td>0.03127</td>\n",
       "      <td>0.22185</td>\n",
       "      <td>0.06753</td>\n",
       "      <td>1.00000</td>\n",
       "      <td>0.21145</td>\n",
       "      <td>0.01390</td>\n",
       "      <td>0.00350</td>\n",
       "      <td>-0.03432</td>\n",
       "    </tr>\n",
       "    <tr>\n",
       "      <th>Fucoxanthin</th>\n",
       "      <td>0.63218</td>\n",
       "      <td>-0.08937</td>\n",
       "      <td>0.13016</td>\n",
       "      <td>0.00611</td>\n",
       "      <td>0.04268</td>\n",
       "      <td>0.21145</td>\n",
       "      <td>1.00000</td>\n",
       "      <td>0.15628</td>\n",
       "      <td>0.07138</td>\n",
       "      <td>-0.01184</td>\n",
       "    </tr>\n",
       "    <tr>\n",
       "      <th>Peridinin</th>\n",
       "      <td>0.46702</td>\n",
       "      <td>-0.04830</td>\n",
       "      <td>0.30308</td>\n",
       "      <td>-0.01508</td>\n",
       "      <td>-0.00762</td>\n",
       "      <td>0.01390</td>\n",
       "      <td>0.15628</td>\n",
       "      <td>1.00000</td>\n",
       "      <td>0.15346</td>\n",
       "      <td>0.13548</td>\n",
       "    </tr>\n",
       "    <tr>\n",
       "      <th>Alloxanthin</th>\n",
       "      <td>0.31446</td>\n",
       "      <td>-0.10159</td>\n",
       "      <td>0.14270</td>\n",
       "      <td>-0.00377</td>\n",
       "      <td>0.13072</td>\n",
       "      <td>0.00350</td>\n",
       "      <td>0.07138</td>\n",
       "      <td>0.15346</td>\n",
       "      <td>1.00000</td>\n",
       "      <td>0.09964</td>\n",
       "    </tr>\n",
       "    <tr>\n",
       "      <th>Zeaxanthin</th>\n",
       "      <td>0.12861</td>\n",
       "      <td>0.27040</td>\n",
       "      <td>0.20323</td>\n",
       "      <td>0.01133</td>\n",
       "      <td>-0.02032</td>\n",
       "      <td>-0.03432</td>\n",
       "      <td>-0.01184</td>\n",
       "      <td>0.13548</td>\n",
       "      <td>0.09964</td>\n",
       "      <td>1.00000</td>\n",
       "    </tr>\n",
       "  </tbody>\n",
       "</table>\n",
       "</div>"
      ],
      "text/plain": [
       "                           Chlorophyll a, total  Divinyl chlorophyll a  \\\n",
       "Chlorophyll a, total                    1.00000               -0.06194   \n",
       "Divinyl chlorophyll a                  -0.06194                1.00000   \n",
       "Chlorophyll b                           0.36365               -0.06417   \n",
       "Divinyl chlorophyll b                  -0.01328                0.20846   \n",
       "19-Hexanoyloxyfucoxanthin               0.09536               -0.03670   \n",
       "19-Butanoyloxyfucoxanthin               0.12494               -0.02062   \n",
       "Fucoxanthin                             0.63218               -0.08937   \n",
       "Peridinin                               0.46702               -0.04830   \n",
       "Alloxanthin                             0.31446               -0.10159   \n",
       "Zeaxanthin                              0.12861                0.27040   \n",
       "\n",
       "                           Chlorophyll b  Divinyl chlorophyll b  \\\n",
       "Chlorophyll a, total             0.36365               -0.01328   \n",
       "Divinyl chlorophyll a           -0.06417                0.20846   \n",
       "Chlorophyll b                    1.00000               -0.02682   \n",
       "Divinyl chlorophyll b           -0.02682                1.00000   \n",
       "19-Hexanoyloxyfucoxanthin        0.03800                0.11675   \n",
       "19-Butanoyloxyfucoxanthin        0.03127                0.22185   \n",
       "Fucoxanthin                      0.13016                0.00611   \n",
       "Peridinin                        0.30308               -0.01508   \n",
       "Alloxanthin                      0.14270               -0.00377   \n",
       "Zeaxanthin                       0.20323                0.01133   \n",
       "\n",
       "                           19-Hexanoyloxyfucoxanthin  \\\n",
       "Chlorophyll a, total                         0.09536   \n",
       "Divinyl chlorophyll a                       -0.03670   \n",
       "Chlorophyll b                                0.03800   \n",
       "Divinyl chlorophyll b                        0.11675   \n",
       "19-Hexanoyloxyfucoxanthin                    1.00000   \n",
       "19-Butanoyloxyfucoxanthin                    0.06753   \n",
       "Fucoxanthin                                  0.04268   \n",
       "Peridinin                                   -0.00762   \n",
       "Alloxanthin                                  0.13072   \n",
       "Zeaxanthin                                  -0.02032   \n",
       "\n",
       "                           19-Butanoyloxyfucoxanthin  Fucoxanthin  Peridinin  \\\n",
       "Chlorophyll a, total                         0.12494      0.63218    0.46702   \n",
       "Divinyl chlorophyll a                       -0.02062     -0.08937   -0.04830   \n",
       "Chlorophyll b                                0.03127      0.13016    0.30308   \n",
       "Divinyl chlorophyll b                        0.22185      0.00611   -0.01508   \n",
       "19-Hexanoyloxyfucoxanthin                    0.06753      0.04268   -0.00762   \n",
       "19-Butanoyloxyfucoxanthin                    1.00000      0.21145    0.01390   \n",
       "Fucoxanthin                                  0.21145      1.00000    0.15628   \n",
       "Peridinin                                    0.01390      0.15628    1.00000   \n",
       "Alloxanthin                                  0.00350      0.07138    0.15346   \n",
       "Zeaxanthin                                  -0.03432     -0.01184    0.13548   \n",
       "\n",
       "                           Alloxanthin  Zeaxanthin  \n",
       "Chlorophyll a, total           0.31446     0.12861  \n",
       "Divinyl chlorophyll a         -0.10159     0.27040  \n",
       "Chlorophyll b                  0.14270     0.20323  \n",
       "Divinyl chlorophyll b         -0.00377     0.01133  \n",
       "19-Hexanoyloxyfucoxanthin      0.13072    -0.02032  \n",
       "19-Butanoyloxyfucoxanthin      0.00350    -0.03432  \n",
       "Fucoxanthin                    0.07138    -0.01184  \n",
       "Peridinin                      0.15346     0.13548  \n",
       "Alloxanthin                    1.00000     0.09964  \n",
       "Zeaxanthin                     0.09964     1.00000  "
      ]
     },
     "execution_count": 38,
     "metadata": {},
     "output_type": "execute_result"
    }
   ],
   "source": [
    "df_global_data.corr()"
   ]
  },
  {
   "cell_type": "code",
   "execution_count": 39,
   "metadata": {},
   "outputs": [
    {
     "data": {
      "text/plain": [
       "'C:\\\\Users\\\\paulg\\\\Documents\\\\Master TRIED\\\\Cours\\\\Etude de cas\\\\Git repository\\\\Etude_de_cas_TRIED/Images'"
      ]
     },
     "execution_count": 39,
     "metadata": {},
     "output_type": "execute_result"
    }
   ],
   "source": [
    "base_filename = os.getcwd()+'/Images'\n",
    "base_filename"
   ]
  },
  {
   "cell_type": "code",
   "execution_count": 40,
   "metadata": {
    "id": "l9CZKRGjEA_V"
   },
   "outputs": [],
   "source": [
    "# fig = plt.figure(figsize=(16,10))\n",
    "# base_filename = os.getcwd()+'/Images'\n",
    "# ax = sns.heatmap(df_global_data.corr(method='pearson'), annot=True, fmt=\".2f\", linewidths=.5, vmin=-1, vmax=1)\n",
    "# #\n",
    "# filename_png = base_filename +\"_correlations_data_global.png\"\n",
    "# plt.savefig(filename_png, dpi=300)"
   ]
  },
  {
   "cell_type": "markdown",
   "metadata": {},
   "source": [
    "La matrice de corrélation, que ce soit en utilisant les coefficients de Pearson ou de Spearman (sur les rangs), ne permet pas de mettre en lumière une corrélation linéaire entre les différentes variables. Ceci est vrai pour toutes les variables à l'exception de la *'Chlorophyll a, total'* qui semble être corrélée au *'Fucoxanthin'*. "
   ]
  },
  {
   "cell_type": "markdown",
   "metadata": {},
   "source": [
    "Essayons maintenant de tracer les diagrammes de dispersion afin d'observer une potentielle relation autre que linéaire entre les variables."
   ]
  },
  {
   "cell_type": "code",
   "execution_count": 41,
   "metadata": {},
   "outputs": [],
   "source": [
    "# fig = plt.figure(figsize=(16,10))\n",
    "# g = sns.pairplot(df_global_data, diag_kind=\"kde\", markers=\"+\",\n",
    "#                   plot_kws=dict(s=50, edgecolor=\"b\", linewidth=1),\n",
    "#                   diag_kws=dict(shade=True))"
   ]
  },
  {
   "cell_type": "markdown",
   "metadata": {},
   "source": [
    "On peut avancer que certaines courbes semblent suivre une loi inverse de la forme $y = \\frac{1}{x^p}$. Il apparaît donc intéressant de tracer d'étudier la relation entre les logarithmes des variables. On verra ça un peu plus loin."
   ]
  },
  {
   "cell_type": "markdown",
   "metadata": {},
   "source": [
    "### b) Corrélations des datas tara"
   ]
  },
  {
   "cell_type": "code",
   "execution_count": 88,
   "metadata": {},
   "outputs": [
    {
     "data": {
      "image/png": "[encoded data removed]",
      "text/plain": [
       "<Figure size 1152x720 with 2 Axes>"
      ]
     },
     "metadata": {
      "needs_background": "light"
     },
     "output_type": "display_data"
    }
   ],
   "source": [
    "fig = plt.figure(figsize=(16,10))\n",
    "base_filename = os.getcwd()+'/Images'\n",
    "ax = sns.heatmap(df_tara_data.corr(method='pearson').iloc[:,:], annot=True, fmt=\".2f\", linewidths=.5, vmin=-1, vmax=1)\n",
    "#\n",
    "filename_png = base_filename +\"_correlations_tara.png\"\n",
    "plt.savefig(filename_png, dpi=300)"
   ]
  },
  {
   "cell_type": "code",
   "execution_count": 43,
   "metadata": {},
   "outputs": [],
   "source": [
    "# fig = plt.figure(figsize=(16,10))\n",
    "# base_filename = os.getcwd()+'/Images'\n",
    "# ax = sns.heatmap(df_tara_data.corr(method='pearson').iloc[7:,:], annot=True, fmt=\".2f\", linewidths=.5, vmin=-1, vmax=1)\n",
    "# #\n",
    "# filename_png = base_filename +\"_correlations_tara.png\"\n",
    "# plt.savefig(filename_png, dpi=300)"
   ]
  },
  {
   "cell_type": "code",
   "execution_count": 44,
   "metadata": {},
   "outputs": [],
   "source": [
    "# fig = plt.figure(figsize=(16,10))\n",
    "# g = sns.pairplot(df_tara_data, diag_kind=\"kde\", markers=\"+\",\n",
    "#                   plot_kws=dict(s=50, edgecolor=\"b\", linewidth=1),\n",
    "#                   diag_kws=dict(shade=True))"
   ]
  },
  {
   "cell_type": "markdown",
   "metadata": {},
   "source": [
    "## 3.2. Données transformées $X' = ln(1+X)$ "
   ]
  },
  {
   "cell_type": "code",
   "execution_count": 45,
   "metadata": {},
   "outputs": [
    {
     "data": {
      "text/html": [
       "<div>\n",
       "<style scoped>\n",
       "    .dataframe tbody tr th:only-of-type {\n",
       "        vertical-align: middle;\n",
       "    }\n",
       "\n",
       "    .dataframe tbody tr th {\n",
       "        vertical-align: top;\n",
       "    }\n",
       "\n",
       "    .dataframe thead th {\n",
       "        text-align: right;\n",
       "    }\n",
       "</style>\n",
       "<table border=\"1\" class=\"dataframe\">\n",
       "  <thead>\n",
       "    <tr style=\"text-align: right;\">\n",
       "      <th></th>\n",
       "      <th>Chlorophyll a, total</th>\n",
       "      <th>Divinyl chlorophyll a</th>\n",
       "      <th>Chlorophyll b</th>\n",
       "      <th>Divinyl chlorophyll b</th>\n",
       "      <th>19-Hexanoyloxyfucoxanthin</th>\n",
       "      <th>19-Butanoyloxyfucoxanthin</th>\n",
       "      <th>Fucoxanthin</th>\n",
       "      <th>Peridinin</th>\n",
       "      <th>Alloxanthin</th>\n",
       "      <th>Zeaxanthin</th>\n",
       "    </tr>\n",
       "  </thead>\n",
       "  <tbody>\n",
       "    <tr>\n",
       "      <th>0</th>\n",
       "      <td>0.39339</td>\n",
       "      <td>0.05354</td>\n",
       "      <td>0.05733</td>\n",
       "      <td>NaN</td>\n",
       "      <td>0.08158</td>\n",
       "      <td>0.01587</td>\n",
       "      <td>0.02859</td>\n",
       "      <td>0.01686</td>\n",
       "      <td>0.00698</td>\n",
       "      <td>0.17227</td>\n",
       "    </tr>\n",
       "    <tr>\n",
       "      <th>1</th>\n",
       "      <td>0.81004</td>\n",
       "      <td>0.00000</td>\n",
       "      <td>0.24451</td>\n",
       "      <td>NaN</td>\n",
       "      <td>0.22154</td>\n",
       "      <td>0.05921</td>\n",
       "      <td>0.28668</td>\n",
       "      <td>0.06204</td>\n",
       "      <td>0.10075</td>\n",
       "      <td>0.03826</td>\n",
       "    </tr>\n",
       "    <tr>\n",
       "      <th>2</th>\n",
       "      <td>0.92307</td>\n",
       "      <td>0.00000</td>\n",
       "      <td>0.18731</td>\n",
       "      <td>NaN</td>\n",
       "      <td>0.21026</td>\n",
       "      <td>0.06297</td>\n",
       "      <td>0.49225</td>\n",
       "      <td>0.05449</td>\n",
       "      <td>0.18814</td>\n",
       "      <td>0.02956</td>\n",
       "    </tr>\n",
       "    <tr>\n",
       "      <th>3</th>\n",
       "      <td>1.47316</td>\n",
       "      <td>0.00000</td>\n",
       "      <td>0.00000</td>\n",
       "      <td>NaN</td>\n",
       "      <td>0.12839</td>\n",
       "      <td>0.03440</td>\n",
       "      <td>1.11743</td>\n",
       "      <td>0.08158</td>\n",
       "      <td>0.00000</td>\n",
       "      <td>0.04688</td>\n",
       "    </tr>\n",
       "    <tr>\n",
       "      <th>4</th>\n",
       "      <td>0.84372</td>\n",
       "      <td>0.00000</td>\n",
       "      <td>0.17563</td>\n",
       "      <td>NaN</td>\n",
       "      <td>0.25309</td>\n",
       "      <td>0.05164</td>\n",
       "      <td>0.28968</td>\n",
       "      <td>0.14150</td>\n",
       "      <td>0.03150</td>\n",
       "      <td>0.16042</td>\n",
       "    </tr>\n",
       "  </tbody>\n",
       "</table>\n",
       "</div>"
      ],
      "text/plain": [
       "   Chlorophyll a, total  Divinyl chlorophyll a  Chlorophyll b  \\\n",
       "0               0.39339                0.05354        0.05733   \n",
       "1               0.81004                0.00000        0.24451   \n",
       "2               0.92307                0.00000        0.18731   \n",
       "3               1.47316                0.00000        0.00000   \n",
       "4               0.84372                0.00000        0.17563   \n",
       "\n",
       "   Divinyl chlorophyll b  19-Hexanoyloxyfucoxanthin  \\\n",
       "0                    NaN                    0.08158   \n",
       "1                    NaN                    0.22154   \n",
       "2                    NaN                    0.21026   \n",
       "3                    NaN                    0.12839   \n",
       "4                    NaN                    0.25309   \n",
       "\n",
       "   19-Butanoyloxyfucoxanthin  Fucoxanthin  Peridinin  Alloxanthin  Zeaxanthin  \n",
       "0                    0.01587      0.02859    0.01686      0.00698     0.17227  \n",
       "1                    0.05921      0.28668    0.06204      0.10075     0.03826  \n",
       "2                    0.06297      0.49225    0.05449      0.18814     0.02956  \n",
       "3                    0.03440      1.11743    0.08158      0.00000     0.04688  \n",
       "4                    0.05164      0.28968    0.14150      0.03150     0.16042  "
      ]
     },
     "execution_count": 45,
     "metadata": {},
     "output_type": "execute_result"
    }
   ],
   "source": [
    "df_ln_global = np.log(df_global_data + 1)\n",
    "df_ln_global.head()"
   ]
  },
  {
   "cell_type": "code",
   "execution_count": 46,
   "metadata": {},
   "outputs": [
    {
     "data": {
      "text/html": [
       "<div>\n",
       "<style scoped>\n",
       "    .dataframe tbody tr th:only-of-type {\n",
       "        vertical-align: middle;\n",
       "    }\n",
       "\n",
       "    .dataframe tbody tr th {\n",
       "        vertical-align: top;\n",
       "    }\n",
       "\n",
       "    .dataframe thead th {\n",
       "        text-align: right;\n",
       "    }\n",
       "</style>\n",
       "<table border=\"1\" class=\"dataframe\">\n",
       "  <thead>\n",
       "    <tr style=\"text-align: right;\">\n",
       "      <th></th>\n",
       "      <th>Diatoms</th>\n",
       "      <th>Coccolithophores (Haptophytes)</th>\n",
       "      <th>Dinoflagellates</th>\n",
       "      <th>Prochlorococcus</th>\n",
       "      <th>Synechococcus</th>\n",
       "      <th>chlorophytes</th>\n",
       "      <th>other_Haptophytes</th>\n",
       "      <th>Chlorophyll a, total</th>\n",
       "      <th>Divinyl chlorophyll a</th>\n",
       "      <th>Chlorophyll b</th>\n",
       "      <th>Divinyl chlorophyll b</th>\n",
       "      <th>19-Hexanoyloxyfucoxanthin</th>\n",
       "      <th>19-Butanoyloxyfucoxanthin</th>\n",
       "      <th>Fucoxanthin</th>\n",
       "      <th>Peridinin</th>\n",
       "      <th>Alloxanthin</th>\n",
       "      <th>Zeaxanthin</th>\n",
       "    </tr>\n",
       "  </thead>\n",
       "  <tbody>\n",
       "    <tr>\n",
       "      <th>0</th>\n",
       "      <td>NaN</td>\n",
       "      <td>NaN</td>\n",
       "      <td>NaN</td>\n",
       "      <td>NaN</td>\n",
       "      <td>NaN</td>\n",
       "      <td>NaN</td>\n",
       "      <td>NaN</td>\n",
       "      <td>NaN</td>\n",
       "      <td>NaN</td>\n",
       "      <td>NaN</td>\n",
       "      <td>NaN</td>\n",
       "      <td>NaN</td>\n",
       "      <td>NaN</td>\n",
       "      <td>NaN</td>\n",
       "      <td>NaN</td>\n",
       "      <td>NaN</td>\n",
       "      <td>NaN</td>\n",
       "    </tr>\n",
       "    <tr>\n",
       "      <th>1</th>\n",
       "      <td>NaN</td>\n",
       "      <td>NaN</td>\n",
       "      <td>NaN</td>\n",
       "      <td>NaN</td>\n",
       "      <td>NaN</td>\n",
       "      <td>NaN</td>\n",
       "      <td>NaN</td>\n",
       "      <td>NaN</td>\n",
       "      <td>NaN</td>\n",
       "      <td>NaN</td>\n",
       "      <td>NaN</td>\n",
       "      <td>NaN</td>\n",
       "      <td>NaN</td>\n",
       "      <td>NaN</td>\n",
       "      <td>NaN</td>\n",
       "      <td>NaN</td>\n",
       "      <td>NaN</td>\n",
       "    </tr>\n",
       "    <tr>\n",
       "      <th>2</th>\n",
       "      <td>NaN</td>\n",
       "      <td>NaN</td>\n",
       "      <td>NaN</td>\n",
       "      <td>NaN</td>\n",
       "      <td>NaN</td>\n",
       "      <td>NaN</td>\n",
       "      <td>NaN</td>\n",
       "      <td>NaN</td>\n",
       "      <td>NaN</td>\n",
       "      <td>NaN</td>\n",
       "      <td>NaN</td>\n",
       "      <td>NaN</td>\n",
       "      <td>NaN</td>\n",
       "      <td>NaN</td>\n",
       "      <td>NaN</td>\n",
       "      <td>NaN</td>\n",
       "      <td>NaN</td>\n",
       "    </tr>\n",
       "    <tr>\n",
       "      <th>3</th>\n",
       "      <td>0.00377</td>\n",
       "      <td>0.01400</td>\n",
       "      <td>0.02305</td>\n",
       "      <td>0.51927</td>\n",
       "      <td>0.14602</td>\n",
       "      <td>0.03329</td>\n",
       "      <td>0.03514</td>\n",
       "      <td>NaN</td>\n",
       "      <td>NaN</td>\n",
       "      <td>NaN</td>\n",
       "      <td>NaN</td>\n",
       "      <td>NaN</td>\n",
       "      <td>NaN</td>\n",
       "      <td>NaN</td>\n",
       "      <td>NaN</td>\n",
       "      <td>NaN</td>\n",
       "      <td>NaN</td>\n",
       "    </tr>\n",
       "    <tr>\n",
       "      <th>4</th>\n",
       "      <td>0.01384</td>\n",
       "      <td>0.01664</td>\n",
       "      <td>0.03086</td>\n",
       "      <td>0.17649</td>\n",
       "      <td>0.36334</td>\n",
       "      <td>0.04597</td>\n",
       "      <td>0.12019</td>\n",
       "      <td>0.35077</td>\n",
       "      <td>0.00126</td>\n",
       "      <td>0.03269</td>\n",
       "      <td>0.0</td>\n",
       "      <td>0.02501</td>\n",
       "      <td>0.00387</td>\n",
       "      <td>0.11457</td>\n",
       "      <td>0.0</td>\n",
       "      <td>0.00154</td>\n",
       "      <td>0.00694</td>\n",
       "    </tr>\n",
       "  </tbody>\n",
       "</table>\n",
       "</div>"
      ],
      "text/plain": [
       "   Diatoms  Coccolithophores (Haptophytes)  Dinoflagellates  Prochlorococcus  \\\n",
       "0      NaN                             NaN              NaN              NaN   \n",
       "1      NaN                             NaN              NaN              NaN   \n",
       "2      NaN                             NaN              NaN              NaN   \n",
       "3  0.00377                         0.01400          0.02305          0.51927   \n",
       "4  0.01384                         0.01664          0.03086          0.17649   \n",
       "\n",
       "   Synechococcus  chlorophytes  other_Haptophytes  Chlorophyll a, total  \\\n",
       "0            NaN           NaN                NaN                   NaN   \n",
       "1            NaN           NaN                NaN                   NaN   \n",
       "2            NaN           NaN                NaN                   NaN   \n",
       "3        0.14602       0.03329            0.03514                   NaN   \n",
       "4        0.36334       0.04597            0.12019               0.35077   \n",
       "\n",
       "   Divinyl chlorophyll a  Chlorophyll b  Divinyl chlorophyll b  \\\n",
       "0                    NaN            NaN                    NaN   \n",
       "1                    NaN            NaN                    NaN   \n",
       "2                    NaN            NaN                    NaN   \n",
       "3                    NaN            NaN                    NaN   \n",
       "4                0.00126        0.03269                    0.0   \n",
       "\n",
       "   19-Hexanoyloxyfucoxanthin  19-Butanoyloxyfucoxanthin  Fucoxanthin  \\\n",
       "0                        NaN                        NaN          NaN   \n",
       "1                        NaN                        NaN          NaN   \n",
       "2                        NaN                        NaN          NaN   \n",
       "3                        NaN                        NaN          NaN   \n",
       "4                    0.02501                    0.00387      0.11457   \n",
       "\n",
       "   Peridinin  Alloxanthin  Zeaxanthin  \n",
       "0        NaN          NaN         NaN  \n",
       "1        NaN          NaN         NaN  \n",
       "2        NaN          NaN         NaN  \n",
       "3        NaN          NaN         NaN  \n",
       "4        0.0      0.00154     0.00694  "
      ]
     },
     "execution_count": 46,
     "metadata": {},
     "output_type": "execute_result"
    }
   ],
   "source": [
    "df_ln_tara = np.log(df_tara_data + 1)\n",
    "df_ln_tara.head()"
   ]
  },
  {
   "cell_type": "markdown",
   "metadata": {},
   "source": [
    "### a) Corrélations ln_global"
   ]
  },
  {
   "cell_type": "code",
   "execution_count": 47,
   "metadata": {},
   "outputs": [],
   "source": [
    "# fig = plt.figure(figsize=(16,10))\n",
    "# base_filename = os.getcwd()+'/Images'\n",
    "# ax = sns.heatmap(df_ln_global.corr(method='kendall'), annot=True, fmt=\".2f\", linewidths=.5, vmin=-1, vmax=1)\n",
    "# \n",
    "# filename_png = base_filename +\"_correlations_ln_data_global.png\"\n",
    "# plt.savefig(filename_png, dpi=300)"
   ]
  },
  {
   "cell_type": "code",
   "execution_count": 48,
   "metadata": {},
   "outputs": [],
   "source": [
    "# fig = plt.figure(figsize=(16,10))\n",
    "# g = sns.pairplot(df_ln_tara, diag_kind=\"kde\", markers=\"+\",\n",
    "#                   plot_kws=dict(s=50, edgecolor=\"b\", linewidth=1),\n",
    "#                   diag_kws=dict(shade=True))"
   ]
  },
  {
   "cell_type": "markdown",
   "metadata": {},
   "source": [
    "### b) Corrélations ln_tara"
   ]
  },
  {
   "cell_type": "code",
   "execution_count": 49,
   "metadata": {},
   "outputs": [],
   "source": [
    "# fig = plt.figure(figsize=(16,10))\n",
    "# base_filename = os.getcwd()+'/Images'\n",
    "# ax = sns.heatmap(df_ln_tara.corr().iloc[:7,:], annot=True, fmt=\".2f\", linewidths=.5, vmin=-1, vmax=1)\n",
    "# #\n",
    "# filename_png = base_filename +\"_correlations_tara.png\"\n",
    "# plt.savefig(filename_png, dpi=300)"
   ]
  },
  {
   "cell_type": "code",
   "execution_count": 50,
   "metadata": {},
   "outputs": [],
   "source": [
    "# fig = plt.figure(figsize=(16,10))\n",
    "# base_filename = os.getcwd()+'/Images'\n",
    "# ax = sns.heatmap(df_ln_tara.corr().iloc[7:,:], annot=True, fmt=\".2f\", linewidths=.5, vmin=-1, vmax=1)\n",
    "# #\n",
    "# filename_png = base_filename +\"_correlations_tara.png\"\n",
    "# plt.savefig(filename_png, dpi=300)"
   ]
  },
  {
   "cell_type": "code",
   "execution_count": 51,
   "metadata": {},
   "outputs": [],
   "source": [
    "# fig = plt.figure(figsize=(16,10))\n",
    "# g = sns.pairplot(df_ln_tara.iloc[:,7:], diag_kind=\"kde\", markers=\"+\",\n",
    "#                   plot_kws=dict(s=50, edgecolor=\"b\", linewidth=1),\n",
    "#                   diag_kws=dict(shade=True))"
   ]
  },
  {
   "cell_type": "markdown",
   "metadata": {},
   "source": [
    "# 4. Imputation des valeurs manquantes"
   ]
  },
  {
   "cell_type": "markdown",
   "metadata": {},
   "source": [
    "Au vu des histogrammes et tableaux de valeurs manquantes (NaN), on décide de procéder à une imputation des données manquantes. Pour cela, on essaie différentes méthodes."
   ]
  },
  {
   "cell_type": "markdown",
   "metadata": {},
   "source": [
    "## 4.0. Normalisation des données "
   ]
  },
  {
   "cell_type": "code",
   "execution_count": 52,
   "metadata": {},
   "outputs": [],
   "source": [
    "#Global data\n",
    "df_global_data_normalized =(df_global_data-df_global_data.mean())/df_global_data.std()\n",
    "#np.around(df_global_data_normalized.describe())\n",
    "\n",
    "#Tara data\n",
    "df_tara_data_normalized =(df_tara_data-df_tara_data.mean())/df_tara_data.std()\n",
    "#np.around(df_tara_data_normalized.describe())"
   ]
  },
  {
   "cell_type": "markdown",
   "metadata": {},
   "source": [
    "## 4.1. K-Nearest-Neighbours (KNN)"
   ]
  },
  {
   "cell_type": "markdown",
   "metadata": {},
   "source": [
    "Cette méthode d'imputation est directement codée sur scikit learn. Elle est appelée *KNNImputer()*.\n",
    "Les informations sur cette méthode sont disponibles au lien : https://scikit-learn.org/stable/modules/generated/sklearn.impute.KNNImputer.html"
   ]
  },
  {
   "cell_type": "markdown",
   "metadata": {},
   "source": [
    "### a) Imputation"
   ]
  },
  {
   "cell_type": "code",
   "execution_count": 53,
   "metadata": {},
   "outputs": [],
   "source": [
    "#Importation de l'environnement adéquat\n",
    "from sklearn.impute import KNNImputer\n",
    "from sklearn.preprocessing import StandardScaler"
   ]
  },
  {
   "cell_type": "code",
   "execution_count": 54,
   "metadata": {},
   "outputs": [],
   "source": [
    "#Définition de l'imputer\n",
    "imputer = KNNImputer(missing_values=np.nan, n_neighbors=5, weights= 'uniform')"
   ]
  },
  {
   "cell_type": "markdown",
   "metadata": {},
   "source": [
    "On ne va considérer que les individus ayant suffisamment de valeurs dans leur ligne. Ceux dont le pourcentage de NaN est supérieur au seuil défini précédemment ne seront pas considérés."
   ]
  },
  {
   "cell_type": "code",
   "execution_count": 55,
   "metadata": {},
   "outputs": [],
   "source": [
    "#Suppression des individus insignifiants (i.e. qui ont trop de NaN)\n",
    "global_data_preparedKNN = df_global_data_normalized.drop(index = index_indiv_global_seuilNaN[0])\n",
    "tara_data_preparedKNN = df_tara_data_normalized.drop(index = index_indiv_tara_seuilNaN[0])"
   ]
  },
  {
   "cell_type": "code",
   "execution_count": 56,
   "metadata": {},
   "outputs": [],
   "source": [
    "#Imputation des données\n",
    "global_data_KNNimputed = imputer.fit_transform(global_data_preparedKNN)\n",
    "df_global_data_KNNimputed = pd.DataFrame(global_data_KNNimputed,columns=pigments)\n",
    "\n",
    "tara_data_KNNimputed = imputer.fit_transform(tara_data_preparedKNN)\n",
    "df_tara_data_KNNimputed = pd.DataFrame(tara_data_KNNimputed,columns=columns_taradata)"
   ]
  },
  {
   "cell_type": "markdown",
   "metadata": {},
   "source": [
    "### b) Analyse des résultats"
   ]
  },
  {
   "cell_type": "markdown",
   "metadata": {},
   "source": [
    "#### *Global_data*"
   ]
  },
  {
   "cell_type": "code",
   "execution_count": 57,
   "metadata": {},
   "outputs": [
    {
     "data": {
      "text/html": [
       "<div>\n",
       "<style scoped>\n",
       "    .dataframe tbody tr th:only-of-type {\n",
       "        vertical-align: middle;\n",
       "    }\n",
       "\n",
       "    .dataframe tbody tr th {\n",
       "        vertical-align: top;\n",
       "    }\n",
       "\n",
       "    .dataframe thead th {\n",
       "        text-align: right;\n",
       "    }\n",
       "</style>\n",
       "<table border=\"1\" class=\"dataframe\">\n",
       "  <thead>\n",
       "    <tr style=\"text-align: right;\">\n",
       "      <th></th>\n",
       "      <th>Chlorophyll a, total</th>\n",
       "      <th>Divinyl chlorophyll a</th>\n",
       "      <th>Chlorophyll b</th>\n",
       "      <th>Divinyl chlorophyll b</th>\n",
       "      <th>19-Hexanoyloxyfucoxanthin</th>\n",
       "      <th>19-Butanoyloxyfucoxanthin</th>\n",
       "      <th>Fucoxanthin</th>\n",
       "      <th>Peridinin</th>\n",
       "      <th>Alloxanthin</th>\n",
       "      <th>Zeaxanthin</th>\n",
       "    </tr>\n",
       "  </thead>\n",
       "  <tbody>\n",
       "    <tr>\n",
       "      <th>count</th>\n",
       "      <td>9443.00000</td>\n",
       "      <td>3.94500e+03</td>\n",
       "      <td>8.24200e+03</td>\n",
       "      <td>2.31200e+03</td>\n",
       "      <td>9440.00000</td>\n",
       "      <td>9.29500e+03</td>\n",
       "      <td>9.26900e+03</td>\n",
       "      <td>8.50000e+03</td>\n",
       "      <td>8.08800e+03</td>\n",
       "      <td>8493.00000</td>\n",
       "    </tr>\n",
       "    <tr>\n",
       "      <th>mean</th>\n",
       "      <td>0.00152</td>\n",
       "      <td>-6.24538e-15</td>\n",
       "      <td>2.71192e-15</td>\n",
       "      <td>3.27953e-16</td>\n",
       "      <td>-0.00020</td>\n",
       "      <td>2.91591e-15</td>\n",
       "      <td>-1.24628e-15</td>\n",
       "      <td>2.39405e-15</td>\n",
       "      <td>5.32950e-15</td>\n",
       "      <td>0.00002</td>\n",
       "    </tr>\n",
       "    <tr>\n",
       "      <th>std</th>\n",
       "      <td>1.00185</td>\n",
       "      <td>1.00000e+00</td>\n",
       "      <td>1.00000e+00</td>\n",
       "      <td>1.00000e+00</td>\n",
       "      <td>1.00000</td>\n",
       "      <td>1.00000e+00</td>\n",
       "      <td>1.00000e+00</td>\n",
       "      <td>1.00000e+00</td>\n",
       "      <td>1.00000e+00</td>\n",
       "      <td>1.00153</td>\n",
       "    </tr>\n",
       "    <tr>\n",
       "      <th>min</th>\n",
       "      <td>-0.41870</td>\n",
       "      <td>-3.58637e-01</td>\n",
       "      <td>-2.84353e-01</td>\n",
       "      <td>-1.68810e-01</td>\n",
       "      <td>-0.25972</td>\n",
       "      <td>-3.65483e-01</td>\n",
       "      <td>-2.86203e-01</td>\n",
       "      <td>-1.26958e-01</td>\n",
       "      <td>-2.93481e-01</td>\n",
       "      <td>-0.37051</td>\n",
       "    </tr>\n",
       "    <tr>\n",
       "      <th>25%</th>\n",
       "      <td>-0.37688</td>\n",
       "      <td>-3.58637e-01</td>\n",
       "      <td>-2.64473e-01</td>\n",
       "      <td>-1.68810e-01</td>\n",
       "      <td>-0.22413</td>\n",
       "      <td>-3.13788e-01</td>\n",
       "      <td>-2.81179e-01</td>\n",
       "      <td>-1.26958e-01</td>\n",
       "      <td>-2.93481e-01</td>\n",
       "      <td>-0.36828</td>\n",
       "    </tr>\n",
       "    <tr>\n",
       "      <th>50%</th>\n",
       "      <td>-0.31187</td>\n",
       "      <td>-2.18518e-01</td>\n",
       "      <td>-1.97804e-01</td>\n",
       "      <td>-1.68810e-01</td>\n",
       "      <td>-0.16915</td>\n",
       "      <td>-2.07063e-01</td>\n",
       "      <td>-2.59592e-01</td>\n",
       "      <td>-1.19680e-01</td>\n",
       "      <td>-2.71980e-01</td>\n",
       "      <td>-0.24100</td>\n",
       "    </tr>\n",
       "    <tr>\n",
       "      <th>75%</th>\n",
       "      <td>-0.10027</td>\n",
       "      <td>1.10801e-01</td>\n",
       "      <td>-1.24986e-02</td>\n",
       "      <td>-1.63090e-01</td>\n",
       "      <td>-0.05989</td>\n",
       "      <td>2.22266e-02</td>\n",
       "      <td>-1.61619e-01</td>\n",
       "      <td>-9.25408e-02</td>\n",
       "      <td>-1.18315e-01</td>\n",
       "      <td>0.04575</td>\n",
       "    </tr>\n",
       "    <tr>\n",
       "      <th>max</th>\n",
       "      <td>24.63939</td>\n",
       "      <td>3.41307e+01</td>\n",
       "      <td>4.50686e+01</td>\n",
       "      <td>1.93354e+01</td>\n",
       "      <td>18.92774</td>\n",
       "      <td>3.93670e+01</td>\n",
       "      <td>3.34631e+01</td>\n",
       "      <td>4.40023e+01</td>\n",
       "      <td>2.63115e+01</td>\n",
       "      <td>16.51461</td>\n",
       "    </tr>\n",
       "  </tbody>\n",
       "</table>\n",
       "</div>"
      ],
      "text/plain": [
       "       Chlorophyll a, total  Divinyl chlorophyll a  Chlorophyll b  \\\n",
       "count            9443.00000            3.94500e+03    8.24200e+03   \n",
       "mean                0.00152           -6.24538e-15    2.71192e-15   \n",
       "std                 1.00185            1.00000e+00    1.00000e+00   \n",
       "min                -0.41870           -3.58637e-01   -2.84353e-01   \n",
       "25%                -0.37688           -3.58637e-01   -2.64473e-01   \n",
       "50%                -0.31187           -2.18518e-01   -1.97804e-01   \n",
       "75%                -0.10027            1.10801e-01   -1.24986e-02   \n",
       "max                24.63939            3.41307e+01    4.50686e+01   \n",
       "\n",
       "       Divinyl chlorophyll b  19-Hexanoyloxyfucoxanthin  \\\n",
       "count            2.31200e+03                 9440.00000   \n",
       "mean             3.27953e-16                   -0.00020   \n",
       "std              1.00000e+00                    1.00000   \n",
       "min             -1.68810e-01                   -0.25972   \n",
       "25%             -1.68810e-01                   -0.22413   \n",
       "50%             -1.68810e-01                   -0.16915   \n",
       "75%             -1.63090e-01                   -0.05989   \n",
       "max              1.93354e+01                   18.92774   \n",
       "\n",
       "       19-Butanoyloxyfucoxanthin  Fucoxanthin    Peridinin  Alloxanthin  \\\n",
       "count                9.29500e+03  9.26900e+03  8.50000e+03  8.08800e+03   \n",
       "mean                 2.91591e-15 -1.24628e-15  2.39405e-15  5.32950e-15   \n",
       "std                  1.00000e+00  1.00000e+00  1.00000e+00  1.00000e+00   \n",
       "min                 -3.65483e-01 -2.86203e-01 -1.26958e-01 -2.93481e-01   \n",
       "25%                 -3.13788e-01 -2.81179e-01 -1.26958e-01 -2.93481e-01   \n",
       "50%                 -2.07063e-01 -2.59592e-01 -1.19680e-01 -2.71980e-01   \n",
       "75%                  2.22266e-02 -1.61619e-01 -9.25408e-02 -1.18315e-01   \n",
       "max                  3.93670e+01  3.34631e+01  4.40023e+01  2.63115e+01   \n",
       "\n",
       "       Zeaxanthin  \n",
       "count  8493.00000  \n",
       "mean      0.00002  \n",
       "std       1.00153  \n",
       "min      -0.37051  \n",
       "25%      -0.36828  \n",
       "50%      -0.24100  \n",
       "75%       0.04575  \n",
       "max      16.51461  "
      ]
     },
     "execution_count": 57,
     "metadata": {},
     "output_type": "execute_result"
    }
   ],
   "source": [
    "#Données initiales\n",
    "#df_global_data.head()\n",
    "global_data_preparedKNN.describe()"
   ]
  },
  {
   "cell_type": "code",
   "execution_count": 58,
   "metadata": {
    "scrolled": true
   },
   "outputs": [
    {
     "data": {
      "text/html": [
       "<div>\n",
       "<style scoped>\n",
       "    .dataframe tbody tr th:only-of-type {\n",
       "        vertical-align: middle;\n",
       "    }\n",
       "\n",
       "    .dataframe tbody tr th {\n",
       "        vertical-align: top;\n",
       "    }\n",
       "\n",
       "    .dataframe thead th {\n",
       "        text-align: right;\n",
       "    }\n",
       "</style>\n",
       "<table border=\"1\" class=\"dataframe\">\n",
       "  <thead>\n",
       "    <tr style=\"text-align: right;\">\n",
       "      <th></th>\n",
       "      <th>Chlorophyll a, total</th>\n",
       "      <th>Divinyl chlorophyll a</th>\n",
       "      <th>Chlorophyll b</th>\n",
       "      <th>Divinyl chlorophyll b</th>\n",
       "      <th>19-Hexanoyloxyfucoxanthin</th>\n",
       "      <th>19-Butanoyloxyfucoxanthin</th>\n",
       "      <th>Fucoxanthin</th>\n",
       "      <th>Peridinin</th>\n",
       "      <th>Alloxanthin</th>\n",
       "      <th>Zeaxanthin</th>\n",
       "    </tr>\n",
       "  </thead>\n",
       "  <tbody>\n",
       "    <tr>\n",
       "      <th>count</th>\n",
       "      <td>9443.00000</td>\n",
       "      <td>9443.00000</td>\n",
       "      <td>9443.00000</td>\n",
       "      <td>9443.00000</td>\n",
       "      <td>9443.00000</td>\n",
       "      <td>9443.00000</td>\n",
       "      <td>9443.00000</td>\n",
       "      <td>9443.00000</td>\n",
       "      <td>9443.00000</td>\n",
       "      <td>9443.00000</td>\n",
       "    </tr>\n",
       "    <tr>\n",
       "      <th>mean</th>\n",
       "      <td>0.00152</td>\n",
       "      <td>-0.11626</td>\n",
       "      <td>-0.00235</td>\n",
       "      <td>-0.00354</td>\n",
       "      <td>-0.00027</td>\n",
       "      <td>-0.00134</td>\n",
       "      <td>-0.00484</td>\n",
       "      <td>-0.00398</td>\n",
       "      <td>0.00170</td>\n",
       "      <td>-0.00386</td>\n",
       "    </tr>\n",
       "    <tr>\n",
       "      <th>std</th>\n",
       "      <td>1.00185</td>\n",
       "      <td>0.67653</td>\n",
       "      <td>0.94403</td>\n",
       "      <td>0.76564</td>\n",
       "      <td>0.99985</td>\n",
       "      <td>0.99279</td>\n",
       "      <td>0.99141</td>\n",
       "      <td>0.95251</td>\n",
       "      <td>0.98631</td>\n",
       "      <td>0.95601</td>\n",
       "    </tr>\n",
       "    <tr>\n",
       "      <th>min</th>\n",
       "      <td>-0.41870</td>\n",
       "      <td>-0.35864</td>\n",
       "      <td>-0.28435</td>\n",
       "      <td>-0.16881</td>\n",
       "      <td>-0.25972</td>\n",
       "      <td>-0.36548</td>\n",
       "      <td>-0.28620</td>\n",
       "      <td>-0.12696</td>\n",
       "      <td>-0.29348</td>\n",
       "      <td>-0.37051</td>\n",
       "    </tr>\n",
       "    <tr>\n",
       "      <th>25%</th>\n",
       "      <td>-0.37688</td>\n",
       "      <td>-0.35751</td>\n",
       "      <td>-0.26292</td>\n",
       "      <td>-0.16881</td>\n",
       "      <td>-0.22414</td>\n",
       "      <td>-0.31379</td>\n",
       "      <td>-0.28151</td>\n",
       "      <td>-0.12696</td>\n",
       "      <td>-0.29299</td>\n",
       "      <td>-0.36249</td>\n",
       "    </tr>\n",
       "    <tr>\n",
       "      <th>50%</th>\n",
       "      <td>-0.31187</td>\n",
       "      <td>-0.26836</td>\n",
       "      <td>-0.19461</td>\n",
       "      <td>-0.16652</td>\n",
       "      <td>-0.16915</td>\n",
       "      <td>-0.20609</td>\n",
       "      <td>-0.26000</td>\n",
       "      <td>-0.11835</td>\n",
       "      <td>-0.26909</td>\n",
       "      <td>-0.21566</td>\n",
       "    </tr>\n",
       "    <tr>\n",
       "      <th>75%</th>\n",
       "      <td>-0.10027</td>\n",
       "      <td>-0.04487</td>\n",
       "      <td>-0.00442</td>\n",
       "      <td>-0.10201</td>\n",
       "      <td>-0.05989</td>\n",
       "      <td>0.02199</td>\n",
       "      <td>-0.16713</td>\n",
       "      <td>-0.08910</td>\n",
       "      <td>-0.10985</td>\n",
       "      <td>0.03954</td>\n",
       "    </tr>\n",
       "    <tr>\n",
       "      <th>max</th>\n",
       "      <td>24.63939</td>\n",
       "      <td>34.13071</td>\n",
       "      <td>45.06860</td>\n",
       "      <td>19.33540</td>\n",
       "      <td>18.92774</td>\n",
       "      <td>39.36698</td>\n",
       "      <td>33.46314</td>\n",
       "      <td>44.00232</td>\n",
       "      <td>26.31147</td>\n",
       "      <td>16.51461</td>\n",
       "    </tr>\n",
       "  </tbody>\n",
       "</table>\n",
       "</div>"
      ],
      "text/plain": [
       "       Chlorophyll a, total  Divinyl chlorophyll a  Chlorophyll b  \\\n",
       "count            9443.00000             9443.00000     9443.00000   \n",
       "mean                0.00152               -0.11626       -0.00235   \n",
       "std                 1.00185                0.67653        0.94403   \n",
       "min                -0.41870               -0.35864       -0.28435   \n",
       "25%                -0.37688               -0.35751       -0.26292   \n",
       "50%                -0.31187               -0.26836       -0.19461   \n",
       "75%                -0.10027               -0.04487       -0.00442   \n",
       "max                24.63939               34.13071       45.06860   \n",
       "\n",
       "       Divinyl chlorophyll b  19-Hexanoyloxyfucoxanthin  \\\n",
       "count             9443.00000                 9443.00000   \n",
       "mean                -0.00354                   -0.00027   \n",
       "std                  0.76564                    0.99985   \n",
       "min                 -0.16881                   -0.25972   \n",
       "25%                 -0.16881                   -0.22414   \n",
       "50%                 -0.16652                   -0.16915   \n",
       "75%                 -0.10201                   -0.05989   \n",
       "max                 19.33540                   18.92774   \n",
       "\n",
       "       19-Butanoyloxyfucoxanthin  Fucoxanthin   Peridinin  Alloxanthin  \\\n",
       "count                 9443.00000   9443.00000  9443.00000   9443.00000   \n",
       "mean                    -0.00134     -0.00484    -0.00398      0.00170   \n",
       "std                      0.99279      0.99141     0.95251      0.98631   \n",
       "min                     -0.36548     -0.28620    -0.12696     -0.29348   \n",
       "25%                     -0.31379     -0.28151    -0.12696     -0.29299   \n",
       "50%                     -0.20609     -0.26000    -0.11835     -0.26909   \n",
       "75%                      0.02199     -0.16713    -0.08910     -0.10985   \n",
       "max                     39.36698     33.46314    44.00232     26.31147   \n",
       "\n",
       "       Zeaxanthin  \n",
       "count  9443.00000  \n",
       "mean     -0.00386  \n",
       "std       0.95601  \n",
       "min      -0.37051  \n",
       "25%      -0.36249  \n",
       "50%      -0.21566  \n",
       "75%       0.03954  \n",
       "max      16.51461  "
      ]
     },
     "execution_count": 58,
     "metadata": {},
     "output_type": "execute_result"
    }
   ],
   "source": [
    "#Données imputées\n",
    "#df_global_data_KNNimputed.head()\n",
    "df_global_data_KNNimputed.describe()"
   ]
  },
  {
   "cell_type": "markdown",
   "metadata": {},
   "source": [
    "On peut regarder la différence de ces deux différents tableaux. Par exemple, la première ligne du data_frame ainsi obtenu est le nombre de valeurs imputées par la méthode KNN. Le reste des lignes témoigne des changements globaux effectués sur les données."
   ]
  },
  {
   "cell_type": "code",
   "execution_count": 59,
   "metadata": {},
   "outputs": [
    {
     "data": {
      "text/html": [
       "<div>\n",
       "<style scoped>\n",
       "    .dataframe tbody tr th:only-of-type {\n",
       "        vertical-align: middle;\n",
       "    }\n",
       "\n",
       "    .dataframe tbody tr th {\n",
       "        vertical-align: top;\n",
       "    }\n",
       "\n",
       "    .dataframe thead th {\n",
       "        text-align: right;\n",
       "    }\n",
       "</style>\n",
       "<table border=\"1\" class=\"dataframe\">\n",
       "  <thead>\n",
       "    <tr style=\"text-align: right;\">\n",
       "      <th></th>\n",
       "      <th>Chlorophyll a, total</th>\n",
       "      <th>Divinyl chlorophyll a</th>\n",
       "      <th>Chlorophyll b</th>\n",
       "      <th>Divinyl chlorophyll b</th>\n",
       "      <th>19-Hexanoyloxyfucoxanthin</th>\n",
       "      <th>19-Butanoyloxyfucoxanthin</th>\n",
       "      <th>Fucoxanthin</th>\n",
       "      <th>Peridinin</th>\n",
       "      <th>Alloxanthin</th>\n",
       "      <th>Zeaxanthin</th>\n",
       "    </tr>\n",
       "  </thead>\n",
       "  <tbody>\n",
       "    <tr>\n",
       "      <th>count</th>\n",
       "      <td>0.0</td>\n",
       "      <td>5498.00000</td>\n",
       "      <td>1201.00000</td>\n",
       "      <td>7131.00000</td>\n",
       "      <td>3.00000e+00</td>\n",
       "      <td>148.00000</td>\n",
       "      <td>174.00000</td>\n",
       "      <td>943.00000</td>\n",
       "      <td>1355.00000</td>\n",
       "      <td>950.00000</td>\n",
       "    </tr>\n",
       "    <tr>\n",
       "      <th>mean</th>\n",
       "      <td>0.0</td>\n",
       "      <td>-0.11626</td>\n",
       "      <td>-0.00235</td>\n",
       "      <td>-0.00354</td>\n",
       "      <td>-6.15675e-05</td>\n",
       "      <td>-0.00134</td>\n",
       "      <td>-0.00484</td>\n",
       "      <td>-0.00398</td>\n",
       "      <td>0.00170</td>\n",
       "      <td>-0.00387</td>\n",
       "    </tr>\n",
       "    <tr>\n",
       "      <th>std</th>\n",
       "      <td>0.0</td>\n",
       "      <td>-0.32347</td>\n",
       "      <td>-0.05597</td>\n",
       "      <td>-0.23436</td>\n",
       "      <td>-1.52440e-04</td>\n",
       "      <td>-0.00721</td>\n",
       "      <td>-0.00859</td>\n",
       "      <td>-0.04749</td>\n",
       "      <td>-0.01369</td>\n",
       "      <td>-0.04552</td>\n",
       "    </tr>\n",
       "    <tr>\n",
       "      <th>min</th>\n",
       "      <td>0.0</td>\n",
       "      <td>0.00000</td>\n",
       "      <td>0.00000</td>\n",
       "      <td>0.00000</td>\n",
       "      <td>0.00000e+00</td>\n",
       "      <td>0.00000</td>\n",
       "      <td>0.00000</td>\n",
       "      <td>0.00000</td>\n",
       "      <td>0.00000</td>\n",
       "      <td>0.00000</td>\n",
       "    </tr>\n",
       "    <tr>\n",
       "      <th>25%</th>\n",
       "      <td>0.0</td>\n",
       "      <td>0.00113</td>\n",
       "      <td>0.00155</td>\n",
       "      <td>0.00000</td>\n",
       "      <td>-8.10052e-06</td>\n",
       "      <td>0.00000</td>\n",
       "      <td>-0.00033</td>\n",
       "      <td>0.00000</td>\n",
       "      <td>0.00049</td>\n",
       "      <td>0.00579</td>\n",
       "    </tr>\n",
       "    <tr>\n",
       "      <th>50%</th>\n",
       "      <td>0.0</td>\n",
       "      <td>-0.04984</td>\n",
       "      <td>0.00319</td>\n",
       "      <td>0.00229</td>\n",
       "      <td>0.00000e+00</td>\n",
       "      <td>0.00097</td>\n",
       "      <td>-0.00040</td>\n",
       "      <td>0.00133</td>\n",
       "      <td>0.00290</td>\n",
       "      <td>0.02534</td>\n",
       "    </tr>\n",
       "    <tr>\n",
       "      <th>75%</th>\n",
       "      <td>0.0</td>\n",
       "      <td>-0.15567</td>\n",
       "      <td>0.00807</td>\n",
       "      <td>0.06108</td>\n",
       "      <td>0.00000e+00</td>\n",
       "      <td>-0.00024</td>\n",
       "      <td>-0.00551</td>\n",
       "      <td>0.00344</td>\n",
       "      <td>0.00846</td>\n",
       "      <td>-0.00621</td>\n",
       "    </tr>\n",
       "    <tr>\n",
       "      <th>max</th>\n",
       "      <td>0.0</td>\n",
       "      <td>0.00000</td>\n",
       "      <td>0.00000</td>\n",
       "      <td>0.00000</td>\n",
       "      <td>0.00000e+00</td>\n",
       "      <td>0.00000</td>\n",
       "      <td>0.00000</td>\n",
       "      <td>0.00000</td>\n",
       "      <td>0.00000</td>\n",
       "      <td>0.00000</td>\n",
       "    </tr>\n",
       "  </tbody>\n",
       "</table>\n",
       "</div>"
      ],
      "text/plain": [
       "       Chlorophyll a, total  Divinyl chlorophyll a  Chlorophyll b  \\\n",
       "count                   0.0             5498.00000     1201.00000   \n",
       "mean                    0.0               -0.11626       -0.00235   \n",
       "std                     0.0               -0.32347       -0.05597   \n",
       "min                     0.0                0.00000        0.00000   \n",
       "25%                     0.0                0.00113        0.00155   \n",
       "50%                     0.0               -0.04984        0.00319   \n",
       "75%                     0.0               -0.15567        0.00807   \n",
       "max                     0.0                0.00000        0.00000   \n",
       "\n",
       "       Divinyl chlorophyll b  19-Hexanoyloxyfucoxanthin  \\\n",
       "count             7131.00000                3.00000e+00   \n",
       "mean                -0.00354               -6.15675e-05   \n",
       "std                 -0.23436               -1.52440e-04   \n",
       "min                  0.00000                0.00000e+00   \n",
       "25%                  0.00000               -8.10052e-06   \n",
       "50%                  0.00229                0.00000e+00   \n",
       "75%                  0.06108                0.00000e+00   \n",
       "max                  0.00000                0.00000e+00   \n",
       "\n",
       "       19-Butanoyloxyfucoxanthin  Fucoxanthin  Peridinin  Alloxanthin  \\\n",
       "count                  148.00000    174.00000  943.00000   1355.00000   \n",
       "mean                    -0.00134     -0.00484   -0.00398      0.00170   \n",
       "std                     -0.00721     -0.00859   -0.04749     -0.01369   \n",
       "min                      0.00000      0.00000    0.00000      0.00000   \n",
       "25%                      0.00000     -0.00033    0.00000      0.00049   \n",
       "50%                      0.00097     -0.00040    0.00133      0.00290   \n",
       "75%                     -0.00024     -0.00551    0.00344      0.00846   \n",
       "max                      0.00000      0.00000    0.00000      0.00000   \n",
       "\n",
       "       Zeaxanthin  \n",
       "count   950.00000  \n",
       "mean     -0.00387  \n",
       "std      -0.04552  \n",
       "min       0.00000  \n",
       "25%       0.00579  \n",
       "50%       0.02534  \n",
       "75%      -0.00621  \n",
       "max       0.00000  "
      ]
     },
     "execution_count": 59,
     "metadata": {},
     "output_type": "execute_result"
    }
   ],
   "source": [
    "df_global_data_KNNimputed.describe() - global_data_preparedKNN.describe() "
   ]
  },
  {
   "cell_type": "markdown",
   "metadata": {},
   "source": [
    "Pour évaluer la qualité de l'imputation, on peut se référer à l'indicateur .................."
   ]
  },
  {
   "cell_type": "markdown",
   "metadata": {},
   "source": [
    "#### *Tara_data*"
   ]
  },
  {
   "cell_type": "code",
   "execution_count": 60,
   "metadata": {},
   "outputs": [
    {
     "data": {
      "text/html": [
       "<div>\n",
       "<style scoped>\n",
       "    .dataframe tbody tr th:only-of-type {\n",
       "        vertical-align: middle;\n",
       "    }\n",
       "\n",
       "    .dataframe tbody tr th {\n",
       "        vertical-align: top;\n",
       "    }\n",
       "\n",
       "    .dataframe thead th {\n",
       "        text-align: right;\n",
       "    }\n",
       "</style>\n",
       "<table border=\"1\" class=\"dataframe\">\n",
       "  <thead>\n",
       "    <tr style=\"text-align: right;\">\n",
       "      <th></th>\n",
       "      <th>Diatoms</th>\n",
       "      <th>Coccolithophores (Haptophytes)</th>\n",
       "      <th>Dinoflagellates</th>\n",
       "      <th>Prochlorococcus</th>\n",
       "      <th>Synechococcus</th>\n",
       "      <th>chlorophytes</th>\n",
       "      <th>other_Haptophytes</th>\n",
       "      <th>Chlorophyll a, total</th>\n",
       "      <th>Divinyl chlorophyll a</th>\n",
       "      <th>Chlorophyll b</th>\n",
       "      <th>Divinyl chlorophyll b</th>\n",
       "      <th>19-Hexanoyloxyfucoxanthin</th>\n",
       "      <th>19-Butanoyloxyfucoxanthin</th>\n",
       "      <th>Fucoxanthin</th>\n",
       "      <th>Peridinin</th>\n",
       "      <th>Alloxanthin</th>\n",
       "      <th>Zeaxanthin</th>\n",
       "    </tr>\n",
       "  </thead>\n",
       "  <tbody>\n",
       "    <tr>\n",
       "      <th>count</th>\n",
       "      <td>1.45000e+02</td>\n",
       "      <td>1.45000e+02</td>\n",
       "      <td>1.45000e+02</td>\n",
       "      <td>1.45000e+02</td>\n",
       "      <td>1.45000e+02</td>\n",
       "      <td>1.45000e+02</td>\n",
       "      <td>1.45000e+02</td>\n",
       "      <td>1.44000e+02</td>\n",
       "      <td>1.44000e+02</td>\n",
       "      <td>1.44000e+02</td>\n",
       "      <td>1.44000e+02</td>\n",
       "      <td>1.44000e+02</td>\n",
       "      <td>1.44000e+02</td>\n",
       "      <td>1.44000e+02</td>\n",
       "      <td>1.44000e+02</td>\n",
       "      <td>1.44000e+02</td>\n",
       "      <td>1.44000e+02</td>\n",
       "    </tr>\n",
       "    <tr>\n",
       "      <th>mean</th>\n",
       "      <td>-7.03460e-17</td>\n",
       "      <td>3.04737e-16</td>\n",
       "      <td>-1.15186e-16</td>\n",
       "      <td>6.98292e-16</td>\n",
       "      <td>3.41681e-16</td>\n",
       "      <td>-1.63854e-16</td>\n",
       "      <td>-9.07320e-17</td>\n",
       "      <td>-2.85266e-16</td>\n",
       "      <td>3.08395e-17</td>\n",
       "      <td>3.93204e-16</td>\n",
       "      <td>2.28213e-16</td>\n",
       "      <td>-5.55112e-17</td>\n",
       "      <td>-3.85494e-16</td>\n",
       "      <td>-1.12372e-16</td>\n",
       "      <td>8.63507e-17</td>\n",
       "      <td>-9.25186e-18</td>\n",
       "      <td>-2.85266e-17</td>\n",
       "    </tr>\n",
       "    <tr>\n",
       "      <th>std</th>\n",
       "      <td>1.00000e+00</td>\n",
       "      <td>1.00000e+00</td>\n",
       "      <td>1.00000e+00</td>\n",
       "      <td>1.00000e+00</td>\n",
       "      <td>1.00000e+00</td>\n",
       "      <td>1.00000e+00</td>\n",
       "      <td>1.00000e+00</td>\n",
       "      <td>1.00000e+00</td>\n",
       "      <td>1.00000e+00</td>\n",
       "      <td>1.00000e+00</td>\n",
       "      <td>1.00000e+00</td>\n",
       "      <td>1.00000e+00</td>\n",
       "      <td>1.00000e+00</td>\n",
       "      <td>1.00000e+00</td>\n",
       "      <td>1.00000e+00</td>\n",
       "      <td>1.00000e+00</td>\n",
       "      <td>1.00000e+00</td>\n",
       "    </tr>\n",
       "    <tr>\n",
       "      <th>min</th>\n",
       "      <td>-5.03515e-01</td>\n",
       "      <td>-8.83797e-01</td>\n",
       "      <td>-6.69004e-01</td>\n",
       "      <td>-1.10864e+00</td>\n",
       "      <td>-1.09350e+00</td>\n",
       "      <td>-8.27580e-01</td>\n",
       "      <td>-1.10436e+00</td>\n",
       "      <td>-6.25490e-01</td>\n",
       "      <td>-7.75870e-01</td>\n",
       "      <td>-1.00354e+00</td>\n",
       "      <td>-2.80265e-01</td>\n",
       "      <td>-6.60150e-01</td>\n",
       "      <td>-6.84620e-01</td>\n",
       "      <td>-3.81038e-01</td>\n",
       "      <td>-3.70293e-01</td>\n",
       "      <td>-3.99872e-01</td>\n",
       "      <td>-1.06030e+00</td>\n",
       "    </tr>\n",
       "    <tr>\n",
       "      <th>25%</th>\n",
       "      <td>-4.61984e-01</td>\n",
       "      <td>-6.54050e-01</td>\n",
       "      <td>-4.50562e-01</td>\n",
       "      <td>-9.38075e-01</td>\n",
       "      <td>-9.24055e-01</td>\n",
       "      <td>-6.50931e-01</td>\n",
       "      <td>-6.43138e-01</td>\n",
       "      <td>-4.69871e-01</td>\n",
       "      <td>-7.75870e-01</td>\n",
       "      <td>-7.71911e-01</td>\n",
       "      <td>-2.80265e-01</td>\n",
       "      <td>-5.27920e-01</td>\n",
       "      <td>-5.50834e-01</td>\n",
       "      <td>-3.66219e-01</td>\n",
       "      <td>-3.45187e-01</td>\n",
       "      <td>-3.99872e-01</td>\n",
       "      <td>-8.57642e-01</td>\n",
       "    </tr>\n",
       "    <tr>\n",
       "      <th>50%</th>\n",
       "      <td>-3.92836e-01</td>\n",
       "      <td>-2.77445e-01</td>\n",
       "      <td>-2.72844e-01</td>\n",
       "      <td>-2.26230e-01</td>\n",
       "      <td>-2.70728e-01</td>\n",
       "      <td>-3.36441e-01</td>\n",
       "      <td>-1.68680e-01</td>\n",
       "      <td>-3.26596e-01</td>\n",
       "      <td>-6.30008e-01</td>\n",
       "      <td>-2.88821e-01</td>\n",
       "      <td>-2.80265e-01</td>\n",
       "      <td>-3.93326e-01</td>\n",
       "      <td>-4.29438e-01</td>\n",
       "      <td>-3.29624e-01</td>\n",
       "      <td>-2.83582e-01</td>\n",
       "      <td>-3.65213e-01</td>\n",
       "      <td>-2.75659e-01</td>\n",
       "    </tr>\n",
       "    <tr>\n",
       "      <th>75%</th>\n",
       "      <td>-1.39183e-01</td>\n",
       "      <td>3.04109e-01</td>\n",
       "      <td>1.10244e-01</td>\n",
       "      <td>7.63596e-01</td>\n",
       "      <td>7.49318e-01</td>\n",
       "      <td>1.87490e-01</td>\n",
       "      <td>2.48047e-01</td>\n",
       "      <td>1.58262e-02</td>\n",
       "      <td>6.56976e-01</td>\n",
       "      <td>3.82910e-01</td>\n",
       "      <td>-2.80265e-01</td>\n",
       "      <td>1.62163e-01</td>\n",
       "      <td>1.44522e-01</td>\n",
       "      <td>-4.45159e-02</td>\n",
       "      <td>-1.76482e-01</td>\n",
       "      <td>-1.50858e-01</td>\n",
       "      <td>5.87104e-01</td>\n",
       "    </tr>\n",
       "    <tr>\n",
       "      <th>max</th>\n",
       "      <td>4.88129e+00</td>\n",
       "      <td>4.80455e+00</td>\n",
       "      <td>7.59423e+00</td>\n",
       "      <td>2.17322e+00</td>\n",
       "      <td>2.39287e+00</td>\n",
       "      <td>4.73351e+00</td>\n",
       "      <td>5.18989e+00</td>\n",
       "      <td>7.42098e+00</td>\n",
       "      <td>3.13925e+00</td>\n",
       "      <td>3.76847e+00</td>\n",
       "      <td>7.15910e+00</td>\n",
       "      <td>5.65448e+00</td>\n",
       "      <td>5.11235e+00</td>\n",
       "      <td>7.61846e+00</td>\n",
       "      <td>6.43926e+00</td>\n",
       "      <td>5.74114e+00</td>\n",
       "      <td>3.86838e+00</td>\n",
       "    </tr>\n",
       "  </tbody>\n",
       "</table>\n",
       "</div>"
      ],
      "text/plain": [
       "           Diatoms  Coccolithophores (Haptophytes)  Dinoflagellates  \\\n",
       "count  1.45000e+02                     1.45000e+02      1.45000e+02   \n",
       "mean  -7.03460e-17                     3.04737e-16     -1.15186e-16   \n",
       "std    1.00000e+00                     1.00000e+00      1.00000e+00   \n",
       "min   -5.03515e-01                    -8.83797e-01     -6.69004e-01   \n",
       "25%   -4.61984e-01                    -6.54050e-01     -4.50562e-01   \n",
       "50%   -3.92836e-01                    -2.77445e-01     -2.72844e-01   \n",
       "75%   -1.39183e-01                     3.04109e-01      1.10244e-01   \n",
       "max    4.88129e+00                     4.80455e+00      7.59423e+00   \n",
       "\n",
       "       Prochlorococcus  Synechococcus  chlorophytes  other_Haptophytes  \\\n",
       "count      1.45000e+02    1.45000e+02   1.45000e+02        1.45000e+02   \n",
       "mean       6.98292e-16    3.41681e-16  -1.63854e-16       -9.07320e-17   \n",
       "std        1.00000e+00    1.00000e+00   1.00000e+00        1.00000e+00   \n",
       "min       -1.10864e+00   -1.09350e+00  -8.27580e-01       -1.10436e+00   \n",
       "25%       -9.38075e-01   -9.24055e-01  -6.50931e-01       -6.43138e-01   \n",
       "50%       -2.26230e-01   -2.70728e-01  -3.36441e-01       -1.68680e-01   \n",
       "75%        7.63596e-01    7.49318e-01   1.87490e-01        2.48047e-01   \n",
       "max        2.17322e+00    2.39287e+00   4.73351e+00        5.18989e+00   \n",
       "\n",
       "       Chlorophyll a, total  Divinyl chlorophyll a  Chlorophyll b  \\\n",
       "count           1.44000e+02            1.44000e+02    1.44000e+02   \n",
       "mean           -2.85266e-16            3.08395e-17    3.93204e-16   \n",
       "std             1.00000e+00            1.00000e+00    1.00000e+00   \n",
       "min            -6.25490e-01           -7.75870e-01   -1.00354e+00   \n",
       "25%            -4.69871e-01           -7.75870e-01   -7.71911e-01   \n",
       "50%            -3.26596e-01           -6.30008e-01   -2.88821e-01   \n",
       "75%             1.58262e-02            6.56976e-01    3.82910e-01   \n",
       "max             7.42098e+00            3.13925e+00    3.76847e+00   \n",
       "\n",
       "       Divinyl chlorophyll b  19-Hexanoyloxyfucoxanthin  \\\n",
       "count            1.44000e+02                1.44000e+02   \n",
       "mean             2.28213e-16               -5.55112e-17   \n",
       "std              1.00000e+00                1.00000e+00   \n",
       "min             -2.80265e-01               -6.60150e-01   \n",
       "25%             -2.80265e-01               -5.27920e-01   \n",
       "50%             -2.80265e-01               -3.93326e-01   \n",
       "75%             -2.80265e-01                1.62163e-01   \n",
       "max              7.15910e+00                5.65448e+00   \n",
       "\n",
       "       19-Butanoyloxyfucoxanthin  Fucoxanthin    Peridinin  Alloxanthin  \\\n",
       "count                1.44000e+02  1.44000e+02  1.44000e+02  1.44000e+02   \n",
       "mean                -3.85494e-16 -1.12372e-16  8.63507e-17 -9.25186e-18   \n",
       "std                  1.00000e+00  1.00000e+00  1.00000e+00  1.00000e+00   \n",
       "min                 -6.84620e-01 -3.81038e-01 -3.70293e-01 -3.99872e-01   \n",
       "25%                 -5.50834e-01 -3.66219e-01 -3.45187e-01 -3.99872e-01   \n",
       "50%                 -4.29438e-01 -3.29624e-01 -2.83582e-01 -3.65213e-01   \n",
       "75%                  1.44522e-01 -4.45159e-02 -1.76482e-01 -1.50858e-01   \n",
       "max                  5.11235e+00  7.61846e+00  6.43926e+00  5.74114e+00   \n",
       "\n",
       "        Zeaxanthin  \n",
       "count  1.44000e+02  \n",
       "mean  -2.85266e-17  \n",
       "std    1.00000e+00  \n",
       "min   -1.06030e+00  \n",
       "25%   -8.57642e-01  \n",
       "50%   -2.75659e-01  \n",
       "75%    5.87104e-01  \n",
       "max    3.86838e+00  "
      ]
     },
     "execution_count": 60,
     "metadata": {},
     "output_type": "execute_result"
    }
   ],
   "source": [
    "#Données initiales\n",
    "#df_tara_data.head()\n",
    "tara_data_preparedKNN.describe()"
   ]
  },
  {
   "cell_type": "code",
   "execution_count": 61,
   "metadata": {},
   "outputs": [
    {
     "data": {
      "text/html": [
       "<div>\n",
       "<style scoped>\n",
       "    .dataframe tbody tr th:only-of-type {\n",
       "        vertical-align: middle;\n",
       "    }\n",
       "\n",
       "    .dataframe tbody tr th {\n",
       "        vertical-align: top;\n",
       "    }\n",
       "\n",
       "    .dataframe thead th {\n",
       "        text-align: right;\n",
       "    }\n",
       "</style>\n",
       "<table border=\"1\" class=\"dataframe\">\n",
       "  <thead>\n",
       "    <tr style=\"text-align: right;\">\n",
       "      <th></th>\n",
       "      <th>Diatoms</th>\n",
       "      <th>Coccolithophores (Haptophytes)</th>\n",
       "      <th>Dinoflagellates</th>\n",
       "      <th>Prochlorococcus</th>\n",
       "      <th>Synechococcus</th>\n",
       "      <th>chlorophytes</th>\n",
       "      <th>other_Haptophytes</th>\n",
       "      <th>Chlorophyll a, total</th>\n",
       "      <th>Divinyl chlorophyll a</th>\n",
       "      <th>Chlorophyll b</th>\n",
       "      <th>Divinyl chlorophyll b</th>\n",
       "      <th>19-Hexanoyloxyfucoxanthin</th>\n",
       "      <th>19-Butanoyloxyfucoxanthin</th>\n",
       "      <th>Fucoxanthin</th>\n",
       "      <th>Peridinin</th>\n",
       "      <th>Alloxanthin</th>\n",
       "      <th>Zeaxanthin</th>\n",
       "    </tr>\n",
       "  </thead>\n",
       "  <tbody>\n",
       "    <tr>\n",
       "      <th>count</th>\n",
       "      <td>183.00000</td>\n",
       "      <td>183.00000</td>\n",
       "      <td>183.00000</td>\n",
       "      <td>183.00000</td>\n",
       "      <td>183.00000</td>\n",
       "      <td>183.00000</td>\n",
       "      <td>183.00000</td>\n",
       "      <td>183.00000</td>\n",
       "      <td>183.00000</td>\n",
       "      <td>183.00000</td>\n",
       "      <td>183.00000</td>\n",
       "      <td>183.00000</td>\n",
       "      <td>183.00000</td>\n",
       "      <td>183.00000</td>\n",
       "      <td>183.00000</td>\n",
       "      <td>183.00000</td>\n",
       "      <td>183.00000</td>\n",
       "    </tr>\n",
       "    <tr>\n",
       "      <th>mean</th>\n",
       "      <td>0.05339</td>\n",
       "      <td>0.04946</td>\n",
       "      <td>0.00365</td>\n",
       "      <td>-0.12613</td>\n",
       "      <td>-0.03207</td>\n",
       "      <td>0.22682</td>\n",
       "      <td>0.02019</td>\n",
       "      <td>-0.02452</td>\n",
       "      <td>0.00026</td>\n",
       "      <td>-0.02665</td>\n",
       "      <td>-0.01419</td>\n",
       "      <td>-0.01066</td>\n",
       "      <td>-0.01611</td>\n",
       "      <td>-0.01782</td>\n",
       "      <td>-0.03654</td>\n",
       "      <td>-0.04383</td>\n",
       "      <td>0.00797</td>\n",
       "    </tr>\n",
       "    <tr>\n",
       "      <th>std</th>\n",
       "      <td>0.93084</td>\n",
       "      <td>0.93544</td>\n",
       "      <td>0.89880</td>\n",
       "      <td>0.97097</td>\n",
       "      <td>0.91113</td>\n",
       "      <td>1.07597</td>\n",
       "      <td>0.90307</td>\n",
       "      <td>0.90096</td>\n",
       "      <td>0.95098</td>\n",
       "      <td>0.91802</td>\n",
       "      <td>0.90867</td>\n",
       "      <td>0.90647</td>\n",
       "      <td>0.90230</td>\n",
       "      <td>0.90373</td>\n",
       "      <td>0.89505</td>\n",
       "      <td>0.89905</td>\n",
       "      <td>0.92959</td>\n",
       "    </tr>\n",
       "    <tr>\n",
       "      <th>min</th>\n",
       "      <td>-0.50352</td>\n",
       "      <td>-0.88380</td>\n",
       "      <td>-0.66900</td>\n",
       "      <td>-1.10864</td>\n",
       "      <td>-1.09350</td>\n",
       "      <td>-0.82758</td>\n",
       "      <td>-1.10436</td>\n",
       "      <td>-0.62549</td>\n",
       "      <td>-0.77587</td>\n",
       "      <td>-1.00354</td>\n",
       "      <td>-0.28027</td>\n",
       "      <td>-0.66015</td>\n",
       "      <td>-0.68462</td>\n",
       "      <td>-0.38104</td>\n",
       "      <td>-0.37029</td>\n",
       "      <td>-0.39987</td>\n",
       "      <td>-1.06030</td>\n",
       "    </tr>\n",
       "    <tr>\n",
       "      <th>25%</th>\n",
       "      <td>-0.45383</td>\n",
       "      <td>-0.57312</td>\n",
       "      <td>-0.40576</td>\n",
       "      <td>-1.00224</td>\n",
       "      <td>-0.83501</td>\n",
       "      <td>-0.59000</td>\n",
       "      <td>-0.54532</td>\n",
       "      <td>-0.45788</td>\n",
       "      <td>-0.77587</td>\n",
       "      <td>-0.70911</td>\n",
       "      <td>-0.28027</td>\n",
       "      <td>-0.50793</td>\n",
       "      <td>-0.52101</td>\n",
       "      <td>-0.36265</td>\n",
       "      <td>-0.33623</td>\n",
       "      <td>-0.39987</td>\n",
       "      <td>-0.82514</td>\n",
       "    </tr>\n",
       "    <tr>\n",
       "      <th>50%</th>\n",
       "      <td>-0.35570</td>\n",
       "      <td>-0.17412</td>\n",
       "      <td>-0.20322</td>\n",
       "      <td>-0.44509</td>\n",
       "      <td>-0.25145</td>\n",
       "      <td>-0.21616</td>\n",
       "      <td>-0.04553</td>\n",
       "      <td>-0.27244</td>\n",
       "      <td>-0.42941</td>\n",
       "      <td>-0.25365</td>\n",
       "      <td>-0.28027</td>\n",
       "      <td>-0.33883</td>\n",
       "      <td>-0.39591</td>\n",
       "      <td>-0.32323</td>\n",
       "      <td>-0.27511</td>\n",
       "      <td>-0.34055</td>\n",
       "      <td>-0.16785</td>\n",
       "    </tr>\n",
       "    <tr>\n",
       "      <th>75%</th>\n",
       "      <td>0.14412</td>\n",
       "      <td>0.39729</td>\n",
       "      <td>0.13551</td>\n",
       "      <td>0.61523</td>\n",
       "      <td>0.59360</td>\n",
       "      <td>0.87704</td>\n",
       "      <td>0.22583</td>\n",
       "      <td>0.01509</td>\n",
       "      <td>0.58795</td>\n",
       "      <td>0.26629</td>\n",
       "      <td>-0.28027</td>\n",
       "      <td>0.12013</td>\n",
       "      <td>0.14042</td>\n",
       "      <td>-0.00577</td>\n",
       "      <td>-0.17552</td>\n",
       "      <td>-0.14505</td>\n",
       "      <td>0.54104</td>\n",
       "    </tr>\n",
       "    <tr>\n",
       "      <th>max</th>\n",
       "      <td>4.88129</td>\n",
       "      <td>4.80455</td>\n",
       "      <td>7.59423</td>\n",
       "      <td>2.17322</td>\n",
       "      <td>2.39287</td>\n",
       "      <td>4.73351</td>\n",
       "      <td>5.18989</td>\n",
       "      <td>7.42098</td>\n",
       "      <td>3.13925</td>\n",
       "      <td>3.76847</td>\n",
       "      <td>7.15910</td>\n",
       "      <td>5.65448</td>\n",
       "      <td>5.11235</td>\n",
       "      <td>7.61846</td>\n",
       "      <td>6.43926</td>\n",
       "      <td>5.74114</td>\n",
       "      <td>3.86838</td>\n",
       "    </tr>\n",
       "  </tbody>\n",
       "</table>\n",
       "</div>"
      ],
      "text/plain": [
       "         Diatoms  Coccolithophores (Haptophytes)  Dinoflagellates  \\\n",
       "count  183.00000                       183.00000        183.00000   \n",
       "mean     0.05339                         0.04946          0.00365   \n",
       "std      0.93084                         0.93544          0.89880   \n",
       "min     -0.50352                        -0.88380         -0.66900   \n",
       "25%     -0.45383                        -0.57312         -0.40576   \n",
       "50%     -0.35570                        -0.17412         -0.20322   \n",
       "75%      0.14412                         0.39729          0.13551   \n",
       "max      4.88129                         4.80455          7.59423   \n",
       "\n",
       "       Prochlorococcus  Synechococcus  chlorophytes  other_Haptophytes  \\\n",
       "count        183.00000      183.00000     183.00000          183.00000   \n",
       "mean          -0.12613       -0.03207       0.22682            0.02019   \n",
       "std            0.97097        0.91113       1.07597            0.90307   \n",
       "min           -1.10864       -1.09350      -0.82758           -1.10436   \n",
       "25%           -1.00224       -0.83501      -0.59000           -0.54532   \n",
       "50%           -0.44509       -0.25145      -0.21616           -0.04553   \n",
       "75%            0.61523        0.59360       0.87704            0.22583   \n",
       "max            2.17322        2.39287       4.73351            5.18989   \n",
       "\n",
       "       Chlorophyll a, total  Divinyl chlorophyll a  Chlorophyll b  \\\n",
       "count             183.00000              183.00000      183.00000   \n",
       "mean               -0.02452                0.00026       -0.02665   \n",
       "std                 0.90096                0.95098        0.91802   \n",
       "min                -0.62549               -0.77587       -1.00354   \n",
       "25%                -0.45788               -0.77587       -0.70911   \n",
       "50%                -0.27244               -0.42941       -0.25365   \n",
       "75%                 0.01509                0.58795        0.26629   \n",
       "max                 7.42098                3.13925        3.76847   \n",
       "\n",
       "       Divinyl chlorophyll b  19-Hexanoyloxyfucoxanthin  \\\n",
       "count              183.00000                  183.00000   \n",
       "mean                -0.01419                   -0.01066   \n",
       "std                  0.90867                    0.90647   \n",
       "min                 -0.28027                   -0.66015   \n",
       "25%                 -0.28027                   -0.50793   \n",
       "50%                 -0.28027                   -0.33883   \n",
       "75%                 -0.28027                    0.12013   \n",
       "max                  7.15910                    5.65448   \n",
       "\n",
       "       19-Butanoyloxyfucoxanthin  Fucoxanthin  Peridinin  Alloxanthin  \\\n",
       "count                  183.00000    183.00000  183.00000    183.00000   \n",
       "mean                    -0.01611     -0.01782   -0.03654     -0.04383   \n",
       "std                      0.90230      0.90373    0.89505      0.89905   \n",
       "min                     -0.68462     -0.38104   -0.37029     -0.39987   \n",
       "25%                     -0.52101     -0.36265   -0.33623     -0.39987   \n",
       "50%                     -0.39591     -0.32323   -0.27511     -0.34055   \n",
       "75%                      0.14042     -0.00577   -0.17552     -0.14505   \n",
       "max                      5.11235      7.61846    6.43926      5.74114   \n",
       "\n",
       "       Zeaxanthin  \n",
       "count   183.00000  \n",
       "mean      0.00797  \n",
       "std       0.92959  \n",
       "min      -1.06030  \n",
       "25%      -0.82514  \n",
       "50%      -0.16785  \n",
       "75%       0.54104  \n",
       "max       3.86838  "
      ]
     },
     "execution_count": 61,
     "metadata": {},
     "output_type": "execute_result"
    }
   ],
   "source": [
    "#Données imputées\n",
    "#df_tara_data_KNNimputed.head()\n",
    "df_tara_data_KNNimputed.describe()"
   ]
  },
  {
   "cell_type": "code",
   "execution_count": 62,
   "metadata": {},
   "outputs": [
    {
     "data": {
      "text/html": [
       "<div>\n",
       "<style scoped>\n",
       "    .dataframe tbody tr th:only-of-type {\n",
       "        vertical-align: middle;\n",
       "    }\n",
       "\n",
       "    .dataframe tbody tr th {\n",
       "        vertical-align: top;\n",
       "    }\n",
       "\n",
       "    .dataframe thead th {\n",
       "        text-align: right;\n",
       "    }\n",
       "</style>\n",
       "<table border=\"1\" class=\"dataframe\">\n",
       "  <thead>\n",
       "    <tr style=\"text-align: right;\">\n",
       "      <th></th>\n",
       "      <th>Diatoms</th>\n",
       "      <th>Coccolithophores (Haptophytes)</th>\n",
       "      <th>Dinoflagellates</th>\n",
       "      <th>Prochlorococcus</th>\n",
       "      <th>Synechococcus</th>\n",
       "      <th>chlorophytes</th>\n",
       "      <th>other_Haptophytes</th>\n",
       "      <th>Chlorophyll a, total</th>\n",
       "      <th>Divinyl chlorophyll a</th>\n",
       "      <th>Chlorophyll b</th>\n",
       "      <th>Divinyl chlorophyll b</th>\n",
       "      <th>19-Hexanoyloxyfucoxanthin</th>\n",
       "      <th>19-Butanoyloxyfucoxanthin</th>\n",
       "      <th>Fucoxanthin</th>\n",
       "      <th>Peridinin</th>\n",
       "      <th>Alloxanthin</th>\n",
       "      <th>Zeaxanthin</th>\n",
       "    </tr>\n",
       "  </thead>\n",
       "  <tbody>\n",
       "    <tr>\n",
       "      <th>count</th>\n",
       "      <td>38.00000</td>\n",
       "      <td>38.00000</td>\n",
       "      <td>38.00000</td>\n",
       "      <td>38.00000</td>\n",
       "      <td>38.00000</td>\n",
       "      <td>38.00000</td>\n",
       "      <td>38.00000</td>\n",
       "      <td>39.00000</td>\n",
       "      <td>39.00000</td>\n",
       "      <td>39.00000</td>\n",
       "      <td>39.00000</td>\n",
       "      <td>39.00000</td>\n",
       "      <td>39.00000</td>\n",
       "      <td>39.00000</td>\n",
       "      <td>39.00000</td>\n",
       "      <td>39.00000</td>\n",
       "      <td>39.00000</td>\n",
       "    </tr>\n",
       "    <tr>\n",
       "      <th>mean</th>\n",
       "      <td>0.05339</td>\n",
       "      <td>0.04946</td>\n",
       "      <td>0.00365</td>\n",
       "      <td>-0.12613</td>\n",
       "      <td>-0.03207</td>\n",
       "      <td>0.22682</td>\n",
       "      <td>0.02019</td>\n",
       "      <td>-0.02452</td>\n",
       "      <td>0.00026</td>\n",
       "      <td>-0.02665</td>\n",
       "      <td>-0.01419</td>\n",
       "      <td>-0.01066</td>\n",
       "      <td>-0.01611</td>\n",
       "      <td>-0.01782</td>\n",
       "      <td>-0.03654</td>\n",
       "      <td>-0.04383</td>\n",
       "      <td>0.00797</td>\n",
       "    </tr>\n",
       "    <tr>\n",
       "      <th>std</th>\n",
       "      <td>-0.06916</td>\n",
       "      <td>-0.06456</td>\n",
       "      <td>-0.10120</td>\n",
       "      <td>-0.02903</td>\n",
       "      <td>-0.08887</td>\n",
       "      <td>0.07597</td>\n",
       "      <td>-0.09693</td>\n",
       "      <td>-0.09904</td>\n",
       "      <td>-0.04902</td>\n",
       "      <td>-0.08198</td>\n",
       "      <td>-0.09133</td>\n",
       "      <td>-0.09353</td>\n",
       "      <td>-0.09770</td>\n",
       "      <td>-0.09627</td>\n",
       "      <td>-0.10495</td>\n",
       "      <td>-0.10095</td>\n",
       "      <td>-0.07041</td>\n",
       "    </tr>\n",
       "    <tr>\n",
       "      <th>min</th>\n",
       "      <td>0.00000</td>\n",
       "      <td>0.00000</td>\n",
       "      <td>0.00000</td>\n",
       "      <td>0.00000</td>\n",
       "      <td>0.00000</td>\n",
       "      <td>0.00000</td>\n",
       "      <td>0.00000</td>\n",
       "      <td>0.00000</td>\n",
       "      <td>0.00000</td>\n",
       "      <td>0.00000</td>\n",
       "      <td>0.00000</td>\n",
       "      <td>0.00000</td>\n",
       "      <td>0.00000</td>\n",
       "      <td>0.00000</td>\n",
       "      <td>0.00000</td>\n",
       "      <td>0.00000</td>\n",
       "      <td>0.00000</td>\n",
       "    </tr>\n",
       "    <tr>\n",
       "      <th>25%</th>\n",
       "      <td>0.00815</td>\n",
       "      <td>0.08093</td>\n",
       "      <td>0.04480</td>\n",
       "      <td>-0.06417</td>\n",
       "      <td>0.08904</td>\n",
       "      <td>0.06093</td>\n",
       "      <td>0.09782</td>\n",
       "      <td>0.01199</td>\n",
       "      <td>0.00000</td>\n",
       "      <td>0.06280</td>\n",
       "      <td>0.00000</td>\n",
       "      <td>0.01999</td>\n",
       "      <td>0.02982</td>\n",
       "      <td>0.00357</td>\n",
       "      <td>0.00896</td>\n",
       "      <td>0.00000</td>\n",
       "      <td>0.03250</td>\n",
       "    </tr>\n",
       "    <tr>\n",
       "      <th>50%</th>\n",
       "      <td>0.03713</td>\n",
       "      <td>0.10332</td>\n",
       "      <td>0.06962</td>\n",
       "      <td>-0.21886</td>\n",
       "      <td>0.01927</td>\n",
       "      <td>0.12028</td>\n",
       "      <td>0.12315</td>\n",
       "      <td>0.05416</td>\n",
       "      <td>0.20060</td>\n",
       "      <td>0.03517</td>\n",
       "      <td>0.00000</td>\n",
       "      <td>0.05450</td>\n",
       "      <td>0.03353</td>\n",
       "      <td>0.00639</td>\n",
       "      <td>0.00847</td>\n",
       "      <td>0.02466</td>\n",
       "      <td>0.10780</td>\n",
       "    </tr>\n",
       "    <tr>\n",
       "      <th>75%</th>\n",
       "      <td>0.28330</td>\n",
       "      <td>0.09318</td>\n",
       "      <td>0.02527</td>\n",
       "      <td>-0.14836</td>\n",
       "      <td>-0.15572</td>\n",
       "      <td>0.68955</td>\n",
       "      <td>-0.02222</td>\n",
       "      <td>-0.00074</td>\n",
       "      <td>-0.06903</td>\n",
       "      <td>-0.11662</td>\n",
       "      <td>0.00000</td>\n",
       "      <td>-0.04203</td>\n",
       "      <td>-0.00411</td>\n",
       "      <td>0.03874</td>\n",
       "      <td>0.00096</td>\n",
       "      <td>0.00581</td>\n",
       "      <td>-0.04606</td>\n",
       "    </tr>\n",
       "    <tr>\n",
       "      <th>max</th>\n",
       "      <td>0.00000</td>\n",
       "      <td>0.00000</td>\n",
       "      <td>0.00000</td>\n",
       "      <td>0.00000</td>\n",
       "      <td>0.00000</td>\n",
       "      <td>0.00000</td>\n",
       "      <td>0.00000</td>\n",
       "      <td>0.00000</td>\n",
       "      <td>0.00000</td>\n",
       "      <td>0.00000</td>\n",
       "      <td>0.00000</td>\n",
       "      <td>0.00000</td>\n",
       "      <td>0.00000</td>\n",
       "      <td>0.00000</td>\n",
       "      <td>0.00000</td>\n",
       "      <td>0.00000</td>\n",
       "      <td>0.00000</td>\n",
       "    </tr>\n",
       "  </tbody>\n",
       "</table>\n",
       "</div>"
      ],
      "text/plain": [
       "        Diatoms  Coccolithophores (Haptophytes)  Dinoflagellates  \\\n",
       "count  38.00000                        38.00000         38.00000   \n",
       "mean    0.05339                         0.04946          0.00365   \n",
       "std    -0.06916                        -0.06456         -0.10120   \n",
       "min     0.00000                         0.00000          0.00000   \n",
       "25%     0.00815                         0.08093          0.04480   \n",
       "50%     0.03713                         0.10332          0.06962   \n",
       "75%     0.28330                         0.09318          0.02527   \n",
       "max     0.00000                         0.00000          0.00000   \n",
       "\n",
       "       Prochlorococcus  Synechococcus  chlorophytes  other_Haptophytes  \\\n",
       "count         38.00000       38.00000      38.00000           38.00000   \n",
       "mean          -0.12613       -0.03207       0.22682            0.02019   \n",
       "std           -0.02903       -0.08887       0.07597           -0.09693   \n",
       "min            0.00000        0.00000       0.00000            0.00000   \n",
       "25%           -0.06417        0.08904       0.06093            0.09782   \n",
       "50%           -0.21886        0.01927       0.12028            0.12315   \n",
       "75%           -0.14836       -0.15572       0.68955           -0.02222   \n",
       "max            0.00000        0.00000       0.00000            0.00000   \n",
       "\n",
       "       Chlorophyll a, total  Divinyl chlorophyll a  Chlorophyll b  \\\n",
       "count              39.00000               39.00000       39.00000   \n",
       "mean               -0.02452                0.00026       -0.02665   \n",
       "std                -0.09904               -0.04902       -0.08198   \n",
       "min                 0.00000                0.00000        0.00000   \n",
       "25%                 0.01199                0.00000        0.06280   \n",
       "50%                 0.05416                0.20060        0.03517   \n",
       "75%                -0.00074               -0.06903       -0.11662   \n",
       "max                 0.00000                0.00000        0.00000   \n",
       "\n",
       "       Divinyl chlorophyll b  19-Hexanoyloxyfucoxanthin  \\\n",
       "count               39.00000                   39.00000   \n",
       "mean                -0.01419                   -0.01066   \n",
       "std                 -0.09133                   -0.09353   \n",
       "min                  0.00000                    0.00000   \n",
       "25%                  0.00000                    0.01999   \n",
       "50%                  0.00000                    0.05450   \n",
       "75%                  0.00000                   -0.04203   \n",
       "max                  0.00000                    0.00000   \n",
       "\n",
       "       19-Butanoyloxyfucoxanthin  Fucoxanthin  Peridinin  Alloxanthin  \\\n",
       "count                   39.00000     39.00000   39.00000     39.00000   \n",
       "mean                    -0.01611     -0.01782   -0.03654     -0.04383   \n",
       "std                     -0.09770     -0.09627   -0.10495     -0.10095   \n",
       "min                      0.00000      0.00000    0.00000      0.00000   \n",
       "25%                      0.02982      0.00357    0.00896      0.00000   \n",
       "50%                      0.03353      0.00639    0.00847      0.02466   \n",
       "75%                     -0.00411      0.03874    0.00096      0.00581   \n",
       "max                      0.00000      0.00000    0.00000      0.00000   \n",
       "\n",
       "       Zeaxanthin  \n",
       "count    39.00000  \n",
       "mean      0.00797  \n",
       "std      -0.07041  \n",
       "min       0.00000  \n",
       "25%       0.03250  \n",
       "50%       0.10780  \n",
       "75%      -0.04606  \n",
       "max       0.00000  "
      ]
     },
     "execution_count": 62,
     "metadata": {},
     "output_type": "execute_result"
    }
   ],
   "source": [
    "df_tara_data_KNNimputed.describe() - tara_data_preparedKNN.describe()"
   ]
  },
  {
   "cell_type": "markdown",
   "metadata": {},
   "source": [
    "## 4.2. Imputation itérative"
   ]
  },
  {
   "cell_type": "markdown",
   "metadata": {},
   "source": [
    "Se référer à la documentation suivante pour cette méthode : https://scikit-learn.org/stable/modules/generated/sklearn.impute.IterativeImputer.html#sklearn.impute.IterativeImputer"
   ]
  },
  {
   "cell_type": "code",
   "execution_count": 63,
   "metadata": {},
   "outputs": [],
   "source": [
    "from sklearn.experimental import enable_iterative_imputer\n",
    "from sklearn.impute import IterativeImputer"
   ]
  },
  {
   "cell_type": "code",
   "execution_count": 64,
   "metadata": {},
   "outputs": [],
   "source": [
    "imputer_iteratif = IterativeImputer(random_state=0,max_iter=100)"
   ]
  },
  {
   "cell_type": "code",
   "execution_count": 65,
   "metadata": {},
   "outputs": [],
   "source": [
    "#Suppression des individus insignifiants (i.e. qui ont trop de NaN)\n",
    "global_data_preparedII = df_global_data_normalized.drop(index = index_indiv_global_seuilNaN[0])\n",
    "tara_data_preparedII = df_tara_data_normalized.drop(index = index_indiv_tara_seuilNaN[0])"
   ]
  },
  {
   "cell_type": "code",
   "execution_count": 66,
   "metadata": {},
   "outputs": [
    {
     "name": "stderr",
     "output_type": "stream",
     "text": [
      "C:\\Users\\paulg\\anaconda3\\lib\\site-packages\\sklearn\\impute\\_iterative.py:669: ConvergenceWarning: [IterativeImputer] Early stopping criterion not reached.\n",
      "  warnings.warn(\"[IterativeImputer] Early stopping criterion not\"\n"
     ]
    }
   ],
   "source": [
    "#Imputation des données\n",
    "global_data_IIimputed = imputer_iteratif.fit_transform(global_data_preparedII)\n",
    "df_global_data_IIimputed = pd.DataFrame(global_data_IIimputed,columns=pigments)\n",
    "\n",
    "tara_data_IIimputed = imputer_iteratif.fit_transform(tara_data_preparedII)\n",
    "df_tara_data_IIimputed = pd.DataFrame(tara_data_IIimputed,columns=columns_taradata)"
   ]
  },
  {
   "cell_type": "markdown",
   "metadata": {},
   "source": [
    "## 4.3. Imputation MissForest"
   ]
  },
  {
   "cell_type": "code",
   "execution_count": 67,
   "metadata": {},
   "outputs": [],
   "source": [
    "#!pip install missingpy"
   ]
  },
  {
   "cell_type": "code",
   "execution_count": 68,
   "metadata": {
    "scrolled": true
   },
   "outputs": [
    {
     "name": "stderr",
     "output_type": "stream",
     "text": [
      "C:\\Users\\paulg\\anaconda3\\lib\\site-packages\\sklearn\\utils\\deprecation.py:143: FutureWarning: The sklearn.neighbors.base module is  deprecated in version 0.22 and will be removed in version 0.24. The corresponding classes / functions should instead be imported from sklearn.neighbors. Anything that cannot be imported from sklearn.neighbors is now part of the private API.\n",
      "  warnings.warn(message, FutureWarning)\n"
     ]
    }
   ],
   "source": [
    "from missingpy import MissForest"
   ]
  },
  {
   "cell_type": "code",
   "execution_count": 69,
   "metadata": {},
   "outputs": [],
   "source": [
    "#Suppression des individus insignifiants (i.e. qui ont trop de NaN)\n",
    "global_data_preparedFF = df_global_data_normalized.drop(index = index_indiv_global_seuilNaN[0])\n",
    "tara_data_preparedFF = df_tara_data_normalized.drop(index = index_indiv_tara_seuilNaN[0])"
   ]
  },
  {
   "cell_type": "code",
   "execution_count": 70,
   "metadata": {},
   "outputs": [],
   "source": [
    "missforest_imputer = MissForest()"
   ]
  },
  {
   "cell_type": "code",
   "execution_count": 71,
   "metadata": {},
   "outputs": [
    {
     "name": "stdout",
     "output_type": "stream",
     "text": [
      "Iteration: 0\n",
      "Iteration: 1\n",
      "Iteration: 2\n",
      "Iteration: 0\n",
      "Iteration: 1\n",
      "Iteration: 2\n",
      "Iteration: 3\n",
      "Iteration: 4\n",
      "Iteration: 5\n",
      "Iteration: 6\n"
     ]
    }
   ],
   "source": [
    "#Imputation des données\n",
    "global_data_MFimputed = missforest_imputer.fit_transform(global_data_preparedFF)\n",
    "df_global_data_MFimputed = pd.DataFrame(global_data_MFimputed,columns=pigments)\n",
    "\n",
    "tara_data_MFimputed = missforest_imputer.fit_transform(tara_data_preparedFF)\n",
    "df_tara_data_MFimputed = pd.DataFrame(tara_data_MFimputed,columns=columns_taradata)"
   ]
  },
  {
   "cell_type": "markdown",
   "metadata": {},
   "source": [
    "## 4.4. Comparaison des méthodes d'imputation"
   ]
  },
  {
   "cell_type": "markdown",
   "metadata": {},
   "source": [
    "### a) Base de données globale"
   ]
  },
  {
   "cell_type": "code",
   "execution_count": 72,
   "metadata": {},
   "outputs": [],
   "source": [
    "def evaluation_global(global_data_phyto_hplc, pctge_NaN,methode_imputation):\n",
    "    global_data_phyto_hplc_sans_nan=global_data_phyto_hplc.copy()\n",
    "    global_data_phyto_hplc_sans_nan.dropna(inplace=True)\n",
    "    tableau_pigments=[np.zeros(np.shape(global_data_phyto_hplc_sans_nan)[0]) for i in range(0,10)]\n",
    "    for i,tab in enumerate(tableau_pigments):\n",
    "        compteur=0\n",
    "        while (compteur/len(tab)) <= pctge_NaN[i]/100:\n",
    "            tab[np.random.randint(0,np.shape(global_data_phyto_hplc_sans_nan)[0])]=1\n",
    "            compteur+=1\n",
    "    tableau_repartition = tableau_pigments\n",
    "    \n",
    "    dict={'Chlorophyll a, total':tableau_repartition[0], 'Divinyl chlorophyll a':tableau_repartition[1], 'Chlorophyll b':tableau_repartition[2],\n",
    "       'Divinyl chlorophyll b':tableau_repartition[3], '19-Hexanoyloxyfucoxanthin':tableau_repartition[4],\n",
    "       '19-Butanoyloxyfucoxanthin':tableau_repartition[5], 'Fucoxanthin':tableau_repartition[6], 'Peridinin':tableau_repartition[7], 'Alloxanthin':tableau_repartition[8],\n",
    "       'Zeaxanthin':tableau_repartition[9]}\n",
    "    \n",
    "    global_data_phyto_hplc_avec_nan = global_data_phyto_hplc_sans_nan.copy()\n",
    "    index=list(global_data_phyto_hplc_sans_nan.index)\n",
    "    for column in global_data_phyto_hplc_avec_nan.columns:\n",
    "       for ind in index:\n",
    "           if dict[column][index.index(ind)]==1:\n",
    "               global_data_phyto_hplc_avec_nan.at[ind,column]='NaN'\n",
    "    \n",
    "    #Faire l'imputation ici\n",
    "    #IMPUTATION PAR LA MEDIANE\n",
    "    if methode_imputation == 'mediane':\n",
    "        global_data_phyto_hplc_median_avec_nan = global_data_phyto_hplc_avec_nan.copy()\n",
    "\n",
    "        for column in global_data_phyto_hplc_avec_nan.columns:\n",
    "             median = global_data_phyto_hplc[column].median()\n",
    "             global_data_phyto_hplc_median_avec_nan[column].fillna(median,inplace=True)\n",
    "             global_data_phyto_hplc_imputed = global_data_phyto_hplc_median_avec_nan.values\n",
    "    \n",
    "    #IMPUTATION KNN\n",
    "    if methode_imputation == 'KNN':\n",
    "        global_data_phyto_hplc_KNN_avec_nan = global_data_phyto_hplc_avec_nan.copy()\n",
    "        imputer = KNNImputer(missing_values=np.nan, n_neighbors=5, weights= 'uniform')\n",
    "        global_data_phyto_hplc_imputed = imputer.fit_transform(global_data_phyto_hplc_KNN_avec_nan)\n",
    "        \n",
    "    #IMPUTATION ITERATIVE\n",
    "    if methode_imputation == 'iterative':\n",
    "        global_data_phyto_hplc_II_avec_nan = global_data_phyto_hplc_avec_nan.copy()\n",
    "        imputer_iteratif = IterativeImputer(random_state=0,max_iter=100)\n",
    "        global_data_phyto_hplc_imputed = imputer_iteratif.fit_transform(global_data_phyto_hplc_II_avec_nan)\n",
    "        \n",
    "    #IMPUTATION MISSFOREST\n",
    "    if methode_imputation == 'MissForest':\n",
    "        global_data_phyto_hplc_MF_avec_nan = global_data_phyto_hplc_avec_nan.copy()\n",
    "        missforest_imputer = MissForest()\n",
    "        global_data_phyto_hplc_imputed = missforest_imputer.fit_transform(global_data_phyto_hplc_MF_avec_nan)\n",
    "         \n",
    "    return np.linalg.norm(global_data_phyto_hplc_imputed - global_data_phyto_hplc_sans_nan.values,\n",
    "                   axis=1), np.linalg.norm(global_data_phyto_hplc_imputed - global_data_phyto_hplc_sans_nan.values,\n",
    "                   axis=1).mean()"
   ]
  },
  {
   "cell_type": "code",
   "execution_count": 73,
   "metadata": {},
   "outputs": [
    {
     "data": {
      "text/plain": [
       "(array([0.0854, 0.1901, 0.    , ..., 0.0892, 0.    , 0.0215]),\n",
       " 0.3355571176793613)"
      ]
     },
     "execution_count": 73,
     "metadata": {},
     "output_type": "execute_result"
    }
   ],
   "source": [
    "evaluation_global(df_global_data_normalized, pctg_nan_global[0],'mediane')"
   ]
  },
  {
   "cell_type": "code",
   "execution_count": 75,
   "metadata": {},
   "outputs": [
    {
     "name": "stdout",
     "output_type": "stream",
     "text": [
      "Iteration: 0\n",
      "Iteration: 1\n",
      "Iteration: 2\n",
      "Iteration: 3\n",
      "Iteration: 4\n",
      "Iteration: 0\n",
      "Iteration: 1\n",
      "Iteration: 2\n",
      "Iteration: 3\n",
      "Iteration: 0\n",
      "Iteration: 1\n",
      "Iteration: 2\n",
      "Iteration: 3\n",
      "Iteration: 4\n",
      "Iteration: 5\n",
      "Iteration: 0\n",
      "Iteration: 1\n",
      "Iteration: 2\n",
      "Iteration: 0\n",
      "Iteration: 1\n",
      "Iteration: 2\n",
      "Iteration: 3\n",
      "Iteration: 0\n",
      "Iteration: 1\n",
      "Iteration: 2\n",
      "Iteration: 3\n",
      "Iteration: 4\n",
      "Iteration: 0\n",
      "Iteration: 1\n",
      "Iteration: 2\n",
      "Iteration: 3\n",
      "Iteration: 4\n",
      "Iteration: 0\n",
      "Iteration: 1\n",
      "Iteration: 2\n",
      "Iteration: 3\n",
      "Iteration: 0\n",
      "Iteration: 1\n",
      "Iteration: 2\n",
      "Iteration: 3\n",
      "Iteration: 0\n",
      "Iteration: 1\n",
      "Iteration: 2\n"
     ]
    },
    {
     "data": {
      "text/plain": [
       "array([[0.3074, 0.3412, 0.3049, 0.3024, 0.3073, 0.3204, 0.2686, 0.307 , 0.3104, 0.3006],\n",
       "       [0.2418, 0.1928, 0.2091, 0.2221, 0.209 , 0.1876, 0.2252, 0.1933, 0.2158, 0.2176],\n",
       "       [0.2898, 0.3493, 0.3205, 0.3173, 0.3154, 0.3235, 0.2932, 0.2564, 0.2764, 0.2727],\n",
       "       [0.1588, 0.1695, 0.1713, 0.1584, 0.1691, 0.1787, 0.1791, 0.1632, 0.1732, 0.1712]])"
      ]
     },
     "execution_count": 75,
     "metadata": {},
     "output_type": "execute_result"
    }
   ],
   "source": [
    "# Comparaison des différentes méthodes d'imputation pour tara_data\n",
    "# On procèdera à 10 initialisations différentes\n",
    "\n",
    "methodes = ['mediane','KNN','iterative','MissForest']\n",
    "nb_experiences = 10 \n",
    "distances_global = np.zeros([len(methodes),nb_experiences])\n",
    "\n",
    "for k in range (nb_experiences):\n",
    "    for i,methode in enumerate(methodes):\n",
    "        distances_global[i,k] = evaluation_global(df_global_data_normalized, pctg_nan_global[0],methode)[1]\n",
    "distances_global"
   ]
  },
  {
   "cell_type": "code",
   "execution_count": 76,
   "metadata": {},
   "outputs": [
    {
     "data": {
      "text/html": [
       "<div>\n",
       "<style scoped>\n",
       "    .dataframe tbody tr th:only-of-type {\n",
       "        vertical-align: middle;\n",
       "    }\n",
       "\n",
       "    .dataframe tbody tr th {\n",
       "        vertical-align: top;\n",
       "    }\n",
       "\n",
       "    .dataframe thead th {\n",
       "        text-align: right;\n",
       "    }\n",
       "</style>\n",
       "<table border=\"1\" class=\"dataframe\">\n",
       "  <thead>\n",
       "    <tr style=\"text-align: right;\">\n",
       "      <th></th>\n",
       "      <th>mediane</th>\n",
       "      <th>KNN</th>\n",
       "      <th>iterative</th>\n",
       "      <th>MissForest</th>\n",
       "    </tr>\n",
       "  </thead>\n",
       "  <tbody>\n",
       "    <tr>\n",
       "      <th>count</th>\n",
       "      <td>10.00000</td>\n",
       "      <td>10.00000</td>\n",
       "      <td>10.00000</td>\n",
       "      <td>10.00000</td>\n",
       "    </tr>\n",
       "    <tr>\n",
       "      <th>mean</th>\n",
       "      <td>0.30702</td>\n",
       "      <td>0.21142</td>\n",
       "      <td>0.30146</td>\n",
       "      <td>0.16927</td>\n",
       "    </tr>\n",
       "    <tr>\n",
       "      <th>std</th>\n",
       "      <td>0.01797</td>\n",
       "      <td>0.01680</td>\n",
       "      <td>0.02843</td>\n",
       "      <td>0.00725</td>\n",
       "    </tr>\n",
       "    <tr>\n",
       "      <th>min</th>\n",
       "      <td>0.26855</td>\n",
       "      <td>0.18757</td>\n",
       "      <td>0.25644</td>\n",
       "      <td>0.15843</td>\n",
       "    </tr>\n",
       "    <tr>\n",
       "      <th>25%</th>\n",
       "      <td>0.30306</td>\n",
       "      <td>0.19719</td>\n",
       "      <td>0.27975</td>\n",
       "      <td>0.16470</td>\n",
       "    </tr>\n",
       "    <tr>\n",
       "      <th>50%</th>\n",
       "      <td>0.30718</td>\n",
       "      <td>0.21245</td>\n",
       "      <td>0.30429</td>\n",
       "      <td>0.17033</td>\n",
       "    </tr>\n",
       "    <tr>\n",
       "      <th>75%</th>\n",
       "      <td>0.30963</td>\n",
       "      <td>0.22097</td>\n",
       "      <td>0.31972</td>\n",
       "      <td>0.17275</td>\n",
       "    </tr>\n",
       "    <tr>\n",
       "      <th>max</th>\n",
       "      <td>0.34119</td>\n",
       "      <td>0.24182</td>\n",
       "      <td>0.34935</td>\n",
       "      <td>0.17914</td>\n",
       "    </tr>\n",
       "  </tbody>\n",
       "</table>\n",
       "</div>"
      ],
      "text/plain": [
       "        mediane       KNN  iterative  MissForest\n",
       "count  10.00000  10.00000   10.00000    10.00000\n",
       "mean    0.30702   0.21142    0.30146     0.16927\n",
       "std     0.01797   0.01680    0.02843     0.00725\n",
       "min     0.26855   0.18757    0.25644     0.15843\n",
       "25%     0.30306   0.19719    0.27975     0.16470\n",
       "50%     0.30718   0.21245    0.30429     0.17033\n",
       "75%     0.30963   0.22097    0.31972     0.17275\n",
       "max     0.34119   0.24182    0.34935     0.17914"
      ]
     },
     "execution_count": 76,
     "metadata": {},
     "output_type": "execute_result"
    }
   ],
   "source": [
    "df_distances_global = pd.DataFrame(distances_global.T,columns = methodes)\n",
    "df_distances_global.describe()"
   ]
  },
  {
   "cell_type": "code",
   "execution_count": 86,
   "metadata": {
    "scrolled": true
   },
   "outputs": [
    {
     "data": {
      "image/png": "[encoded data removed]",
      "text/plain": [
       "<Figure size 432x288 with 1 Axes>"
      ]
     },
     "metadata": {
      "needs_background": "light"
     },
     "output_type": "display_data"
    }
   ],
   "source": [
    "plt.boxplot(distances_global.T, vert=True)\n",
    "plt.xlabel('Méthode')\n",
    "plt.ylabel('Erreur de prédiction Global')\n",
    "locs, labels = plt.xticks()\n",
    "plt.xticks(locs,labels=methodes)\n",
    "\n",
    "plt.tight_layout()\n",
    "plt.savefig('Comparaison_imputation_global.png', dpi=300)"
   ]
  },
  {
   "cell_type": "markdown",
   "metadata": {},
   "source": [
    "### b) Base de données tara"
   ]
  },
  {
   "cell_type": "markdown",
   "metadata": {},
   "source": [
    "Evaluation pour la base de données *tara_data*"
   ]
  },
  {
   "cell_type": "code",
   "execution_count": 78,
   "metadata": {},
   "outputs": [],
   "source": [
    "haptophytes = ['Diatoms',\n",
    "               'Coccolithophores (Haptophytes)',\n",
    "               'Dinoflagellates',\n",
    "               'Prochlorococcus',\n",
    "               'Synechococcus',\n",
    "               'chlorophytes',\n",
    "               'other_Haptophytes']"
   ]
  },
  {
   "cell_type": "code",
   "execution_count": 79,
   "metadata": {},
   "outputs": [],
   "source": [
    "def evaluation_tara(tara_data_phyto_hplc,methode_imputation):\n",
    "    tara_data_phyto_hplc_sans_nan=tara_data_phyto_hplc.copy()\n",
    "    tara_data_phyto_hplc_sans_nan.dropna(inplace=True)\n",
    "    tableau_pigments=[np.zeros(106) for i in range(0,10)]\n",
    "    for tab in tableau_pigments:\n",
    "        compteur=0\n",
    "        while (compteur/len(tab))<=0.3175:\n",
    "            tab[np.random.randint(0,106)]=1\n",
    "            compteur+=1\n",
    "    tableau_haptophytes=[np.zeros(106) for i in range(0,7)]\n",
    "    for tab in tableau_haptophytes:\n",
    "        compteur=0\n",
    "        while (compteur/len(tab))<=0.3128:\n",
    "            tab[np.random.randint(0,106)]=1\n",
    "            compteur+=1\n",
    "    tableau_repartition=tableau_haptophytes+tableau_pigments\n",
    "    \n",
    "    dict={'Diatoms':tableau_repartition[0],\n",
    "       'Coccolithophores (Haptophytes)':tableau_repartition[1], 'Dinoflagellates':tableau_repartition[2], 'Prochlorococcus':tableau_repartition[3],\n",
    "       'Synechococcus':tableau_repartition[4], 'chlorophytes':tableau_repartition[5], 'other_Haptophytes':tableau_repartition[6],\n",
    "       'Chlorophyll a, total':tableau_repartition[7], 'Divinyl chlorophyll a':tableau_repartition[8], 'Chlorophyll b':tableau_repartition[9],\n",
    "       'Divinyl chlorophyll b':tableau_repartition[10], '19-Hexanoyloxyfucoxanthin':tableau_repartition[11],\n",
    "       '19-Butanoyloxyfucoxanthin':tableau_repartition[12], 'Fucoxanthin':tableau_repartition[13], 'Peridinin':tableau_repartition[14], 'Alloxanthin':tableau_repartition[15],\n",
    "       'Zeaxanthin':tableau_repartition[16]}\n",
    "    \n",
    "    tara_data_phyto_hplc_avec_nan=tara_data_phyto_hplc_sans_nan.copy()\n",
    "    index=list(tara_data_phyto_hplc_sans_nan.index)\n",
    "    for column in tara_data_phyto_hplc_avec_nan.columns:\n",
    "       for ind in index:\n",
    "           if dict[column][index.index(ind)]==1:\n",
    "               tara_data_phyto_hplc_avec_nan.at[ind,column]='NaN'\n",
    "    \n",
    "    #Faire l'imputation ici\n",
    "    #IMPUTATION PAR LA MEDIANE\n",
    "    if methode_imputation == 'mediane':\n",
    "        tara_data_phyto_hplc_median_avec_nan = tara_data_phyto_hplc_avec_nan.copy()\n",
    "\n",
    "        for column in tara_data_phyto_hplc_avec_nan.columns:\n",
    "             median = tara_data_phyto_hplc[column].median()\n",
    "             tara_data_phyto_hplc_median_avec_nan[column].fillna(median,inplace=True)\n",
    "             tara_data_phyto_hplc_imputed = tara_data_phyto_hplc_median_avec_nan.values\n",
    "    \n",
    "    #IMPUTATION KNN\n",
    "    if methode_imputation == 'KNN':\n",
    "        tara_data_phyto_hplc_KNN_avec_nan = tara_data_phyto_hplc_avec_nan.copy()\n",
    "        imputer = KNNImputer(missing_values=np.nan, n_neighbors=5, weights= 'uniform')\n",
    "        tara_data_phyto_hplc_imputed = imputer.fit_transform(tara_data_phyto_hplc_KNN_avec_nan)\n",
    "        \n",
    "    #IMPUTATION ITERATIVE\n",
    "    if methode_imputation == 'iterative':\n",
    "        tara_data_phyto_hplc_II_avec_nan = tara_data_phyto_hplc_avec_nan.copy()\n",
    "        imputer_iteratif = IterativeImputer(random_state=0,max_iter=100)\n",
    "        tara_data_phyto_hplc_imputed = imputer_iteratif.fit_transform(tara_data_phyto_hplc_II_avec_nan)\n",
    "        \n",
    "    #IMPUTATION MISSFOREST\n",
    "    if methode_imputation == 'MissForest':\n",
    "        tara_data_phyto_hplc_MF_avec_nan = tara_data_phyto_hplc_avec_nan.copy()\n",
    "        missforest_imputer = MissForest()\n",
    "        tara_data_phyto_hplc_imputed = missforest_imputer.fit_transform(tara_data_phyto_hplc_MF_avec_nan)\n",
    "         \n",
    "    return np.linalg.norm(tara_data_phyto_hplc_imputed - tara_data_phyto_hplc_sans_nan.values,\n",
    "                   axis=1), np.linalg.norm(tara_data_phyto_hplc_imputed - tara_data_phyto_hplc_sans_nan.values,\n",
    "                   axis=1).mean()"
   ]
  },
  {
   "cell_type": "code",
   "execution_count": null,
   "metadata": {},
   "outputs": [],
   "source": []
  },
  {
   "cell_type": "code",
   "execution_count": 80,
   "metadata": {
    "scrolled": true
   },
   "outputs": [
    {
     "name": "stdout",
     "output_type": "stream",
     "text": [
      "Iteration: 0\n",
      "Iteration: 1\n",
      "Iteration: 2\n",
      "Iteration: 3\n",
      "Iteration: 4\n",
      "Iteration: 5\n",
      "Iteration: 0\n",
      "Iteration: 1\n",
      "Iteration: 2\n",
      "Iteration: 3\n",
      "Iteration: 4\n",
      "Iteration: 5\n",
      "Iteration: 0\n",
      "Iteration: 1\n",
      "Iteration: 2\n",
      "Iteration: 3\n",
      "Iteration: 4\n",
      "Iteration: 5\n",
      "Iteration: 0\n",
      "Iteration: 1\n",
      "Iteration: 2\n",
      "Iteration: 3\n",
      "Iteration: 0\n",
      "Iteration: 1\n",
      "Iteration: 2\n",
      "Iteration: 3\n",
      "Iteration: 4\n",
      "Iteration: 5\n",
      "Iteration: 6\n",
      "Iteration: 0\n",
      "Iteration: 1\n",
      "Iteration: 2\n",
      "Iteration: 3\n",
      "Iteration: 4\n",
      "Iteration: 0\n",
      "Iteration: 1\n",
      "Iteration: 2\n",
      "Iteration: 3\n",
      "Iteration: 4\n",
      "Iteration: 5\n",
      "Iteration: 6\n",
      "Iteration: 7\n",
      "Iteration: 8\n",
      "Iteration: 9\n",
      "Iteration: 0\n",
      "Iteration: 1\n",
      "Iteration: 2\n",
      "Iteration: 3\n",
      "Iteration: 0\n",
      "Iteration: 1\n",
      "Iteration: 2\n",
      "Iteration: 3\n",
      "Iteration: 4\n",
      "Iteration: 5\n",
      "Iteration: 0\n",
      "Iteration: 1\n",
      "Iteration: 2\n",
      "Iteration: 3\n",
      "Iteration: 4\n",
      "Iteration: 5\n",
      "Iteration: 6\n"
     ]
    },
    {
     "data": {
      "text/plain": [
       "array([[1.4953, 1.4091, 1.6067, 1.5517, 1.6578, 1.7818, 1.593 , 1.7715, 1.7753, 1.4277],\n",
       "       [1.3468, 1.4034, 1.4832, 1.3888, 1.3786, 1.3342, 1.2235, 1.2963, 1.3354, 1.2116],\n",
       "       [1.4357, 1.364 , 1.3399, 1.3063, 1.329 , 1.3158, 1.3159, 1.3348, 1.332 , 1.2762],\n",
       "       [1.2445, 1.2125, 1.2524, 1.0683, 1.1358, 1.0976, 1.3799, 1.084 , 1.2999, 1.1207]])"
      ]
     },
     "execution_count": 80,
     "metadata": {},
     "output_type": "execute_result"
    }
   ],
   "source": [
    "# Comparaison des différentes méthodes d'imputation pour tara_data\n",
    "# On procèdera à 10 initialisations différentes\n",
    "\n",
    "methodes = ['mediane','KNN','iterative','MissForest']\n",
    "nb_experiences = 10 \n",
    "distances = np.zeros([len(methodes),nb_experiences])\n",
    "\n",
    "for k in range (nb_experiences):\n",
    "    for i,methode in enumerate(methodes):\n",
    "        distances[i,k] = evaluation_tara(df_tara_data_normalized,methode)[1]\n",
    "distances"
   ]
  },
  {
   "cell_type": "code",
   "execution_count": 81,
   "metadata": {
    "scrolled": true
   },
   "outputs": [
    {
     "data": {
      "text/html": [
       "<div>\n",
       "<style scoped>\n",
       "    .dataframe tbody tr th:only-of-type {\n",
       "        vertical-align: middle;\n",
       "    }\n",
       "\n",
       "    .dataframe tbody tr th {\n",
       "        vertical-align: top;\n",
       "    }\n",
       "\n",
       "    .dataframe thead th {\n",
       "        text-align: right;\n",
       "    }\n",
       "</style>\n",
       "<table border=\"1\" class=\"dataframe\">\n",
       "  <thead>\n",
       "    <tr style=\"text-align: right;\">\n",
       "      <th></th>\n",
       "      <th>mediane</th>\n",
       "      <th>KNN</th>\n",
       "      <th>iterative</th>\n",
       "      <th>MissForest</th>\n",
       "    </tr>\n",
       "  </thead>\n",
       "  <tbody>\n",
       "    <tr>\n",
       "      <th>count</th>\n",
       "      <td>10.00000</td>\n",
       "      <td>10.00000</td>\n",
       "      <td>10.00000</td>\n",
       "      <td>10.00000</td>\n",
       "    </tr>\n",
       "    <tr>\n",
       "      <th>mean</th>\n",
       "      <td>1.60700</td>\n",
       "      <td>1.34017</td>\n",
       "      <td>1.33497</td>\n",
       "      <td>1.18957</td>\n",
       "    </tr>\n",
       "    <tr>\n",
       "      <th>std</th>\n",
       "      <td>0.13965</td>\n",
       "      <td>0.08194</td>\n",
       "      <td>0.04224</td>\n",
       "      <td>0.10425</td>\n",
       "    </tr>\n",
       "    <tr>\n",
       "      <th>min</th>\n",
       "      <td>1.40914</td>\n",
       "      <td>1.21163</td>\n",
       "      <td>1.27620</td>\n",
       "      <td>1.06835</td>\n",
       "    </tr>\n",
       "    <tr>\n",
       "      <th>25%</th>\n",
       "      <td>1.50943</td>\n",
       "      <td>1.30580</td>\n",
       "      <td>1.31584</td>\n",
       "      <td>1.10339</td>\n",
       "    </tr>\n",
       "    <tr>\n",
       "      <th>50%</th>\n",
       "      <td>1.59982</td>\n",
       "      <td>1.34109</td>\n",
       "      <td>1.33051</td>\n",
       "      <td>1.17414</td>\n",
       "    </tr>\n",
       "    <tr>\n",
       "      <th>75%</th>\n",
       "      <td>1.74310</td>\n",
       "      <td>1.38621</td>\n",
       "      <td>1.33865</td>\n",
       "      <td>1.25045</td>\n",
       "    </tr>\n",
       "    <tr>\n",
       "      <th>max</th>\n",
       "      <td>1.78177</td>\n",
       "      <td>1.48317</td>\n",
       "      <td>1.43567</td>\n",
       "      <td>1.37992</td>\n",
       "    </tr>\n",
       "  </tbody>\n",
       "</table>\n",
       "</div>"
      ],
      "text/plain": [
       "        mediane       KNN  iterative  MissForest\n",
       "count  10.00000  10.00000   10.00000    10.00000\n",
       "mean    1.60700   1.34017    1.33497     1.18957\n",
       "std     0.13965   0.08194    0.04224     0.10425\n",
       "min     1.40914   1.21163    1.27620     1.06835\n",
       "25%     1.50943   1.30580    1.31584     1.10339\n",
       "50%     1.59982   1.34109    1.33051     1.17414\n",
       "75%     1.74310   1.38621    1.33865     1.25045\n",
       "max     1.78177   1.48317    1.43567     1.37992"
      ]
     },
     "execution_count": 81,
     "metadata": {},
     "output_type": "execute_result"
    }
   ],
   "source": [
    "df_distances = pd.DataFrame(distances.T,columns = methodes)\n",
    "df_distances.describe()"
   ]
  },
  {
   "cell_type": "code",
   "execution_count": 85,
   "metadata": {},
   "outputs": [
    {
     "data": {
      "image/png": "[encoded data removed]",
      "text/plain": [
       "<Figure size 432x288 with 1 Axes>"
      ]
     },
     "metadata": {
      "needs_background": "light"
     },
     "output_type": "display_data"
    }
   ],
   "source": [
    "plt.boxplot(distances.T, vert=True)\n",
    "plt.xlabel('Méthode')\n",
    "plt.ylabel('Erreur de prédiction Tara')\n",
    "locs, labels = plt.xticks()\n",
    "plt.xticks(locs,labels=methodes)\n",
    "\n",
    "plt.tight_layout()\n",
    "\n",
    "plt.savefig('Comparaison_imputation_tara.png', dpi=300)"
   ]
  },
  {
   "cell_type": "markdown",
   "metadata": {},
   "source": [
    "# 5. Classification des données imputées"
   ]
  },
  {
   "cell_type": "code",
   "execution_count": 83,
   "metadata": {},
   "outputs": [
    {
     "ename": "NameError",
     "evalue": "name 'df_global_tara_KNNimputed' is not defined",
     "output_type": "error",
     "traceback": [
      "\u001b[1;31m---------------------------------------------------------------------------\u001b[0m",
      "\u001b[1;31mNameError\u001b[0m                                 Traceback (most recent call last)",
      "\u001b[1;32m<ipython-input-83-cd7bba5019cb>\u001b[0m in \u001b[0;36m<module>\u001b[1;34m\u001b[0m\n\u001b[0;32m      4\u001b[0m \u001b[1;32mif\u001b[0m \u001b[0mimputation\u001b[0m \u001b[1;33m==\u001b[0m \u001b[1;34m'KNN'\u001b[0m\u001b[1;33m:\u001b[0m\u001b[1;33m\u001b[0m\u001b[1;33m\u001b[0m\u001b[0m\n\u001b[0;32m      5\u001b[0m     \u001b[0mdf_global_data_imputed\u001b[0m \u001b[1;33m=\u001b[0m \u001b[0mdf_global_data_KNNimputed\u001b[0m\u001b[1;33m\u001b[0m\u001b[1;33m\u001b[0m\u001b[0m\n\u001b[1;32m----> 6\u001b[1;33m     \u001b[0mdf_tara_data_imputed\u001b[0m \u001b[1;33m=\u001b[0m \u001b[0mdf_global_tara_KNNimputed\u001b[0m\u001b[1;33m\u001b[0m\u001b[1;33m\u001b[0m\u001b[0m\n\u001b[0m\u001b[0;32m      7\u001b[0m \u001b[1;32mif\u001b[0m \u001b[0mimputation\u001b[0m \u001b[1;33m==\u001b[0m \u001b[1;34m'Iterative Imputer'\u001b[0m\u001b[1;33m:\u001b[0m\u001b[1;33m\u001b[0m\u001b[1;33m\u001b[0m\u001b[0m\n\u001b[0;32m      8\u001b[0m     \u001b[0mdf_global_data_imputed\u001b[0m \u001b[1;33m=\u001b[0m \u001b[0mdf_global_data_IIimputed\u001b[0m\u001b[1;33m\u001b[0m\u001b[1;33m\u001b[0m\u001b[0m\n",
      "\u001b[1;31mNameError\u001b[0m: name 'df_global_tara_KNNimputed' is not defined"
     ]
    }
   ],
   "source": [
    "imputation = 'KNN'\n",
    "#imputation = 'IterativeImputer'\n",
    "\n",
    "if imputation == 'KNN':\n",
    "    df_global_data_imputed = df_global_data_KNNimputed\n",
    "    df_tara_data_imputed = df_global_tara_KNNimputed\n",
    "if imputation == 'Iterative Imputer':\n",
    "    df_global_data_imputed = df_global_data_IIimputed\n",
    "    df_tara_data_imputed = df_tara_data_IIimputed"
   ]
  },
  {
   "cell_type": "markdown",
   "metadata": {},
   "source": [
    "# 5.1. Simple K-Means"
   ]
  },
  {
   "cell_type": "markdown",
   "metadata": {},
   "source": [
    "# 5.2. K-Means - CAH - K-Means"
   ]
  },
  {
   "cell_type": "markdown",
   "metadata": {},
   "source": [
    "### 1er K-Means"
   ]
  },
  {
   "cell_type": "markdown",
   "metadata": {},
   "source": [
    "Pour simplifier la classification hiérarchique, on va d'abord réaliser une première classification par K-moyennes avec un nombre de clusters élevé. Ces clusters seront ensuite les éléments initiaux de la CAH."
   ]
  },
  {
   "cell_type": "markdown",
   "metadata": {},
   "source": [
    "### CAH"
   ]
  },
  {
   "cell_type": "code",
   "execution_count": 100,
   "metadata": {},
   "outputs": [
    {
     "data": {
      "text/plain": [
       "(array([ 5,  9, 13], dtype=int64),)"
      ]
     },
     "execution_count": 100,
     "metadata": {},
     "output_type": "execute_result"
    }
   ],
   "source": [
    "L = np.array([1,2,3,4,5,7,8,9,10,7,4,2,1,7,9,6,2])\n",
    "\n",
    "index_sept = np.where(L==7)\n",
    "index_sept"
   ]
  },
  {
   "cell_type": "code",
   "execution_count": null,
   "metadata": {},
   "outputs": [],
   "source": []
  }
 ],
 "metadata": {
  "colab": {
   "name": "Etude préliminaire - phyto.ipynb",
   "provenance": []
  },
  "kernelspec": {
   "display_name": "Python 3",
   "language": "python",
   "name": "python3"
  },
  "language_info": {
   "codemirror_mode": {
    "name": "ipython",
    "version": 3
   },
   "file_extension": ".py",
   "mimetype": "text/x-python",
   "name": "python",
   "nbconvert_exporter": "python",
   "pygments_lexer": "ipython3",
   "version": "3.8.5"
  }
 },
 "nbformat": 4,
 "nbformat_minor": 1
}
